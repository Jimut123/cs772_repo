{
 "cells": [
  {
   "cell_type": "markdown",
   "metadata": {
    "id": "bC6SYfyOFUGU"
   },
   "source": [
    "#MLP CODE"
   ]
  },
  {
   "cell_type": "code",
   "execution_count": 286,
   "metadata": {
    "id": "-QTeAmkSEOpd"
   },
   "outputs": [],
   "source": [
    "import os #please ensure random seeding\n",
    "os.environ['PYTHONHASHSEED'] = '50'"
   ]
  },
  {
   "cell_type": "code",
   "execution_count": 287,
   "metadata": {
    "id": "sX_KrvgEwY0d"
   },
   "outputs": [],
   "source": [
    "#import required libaries\n",
    "import numpy as np\n",
    "from matplotlib import pyplot as plt\n",
    "from sklearn.model_selection import StratifiedKFold\n",
    "from imblearn.over_sampling import RandomOverSampler\n",
    "from sklearn.metrics import recall_score\n",
    "from sklearn.metrics import precision_score\n",
    "from sklearn.metrics import accuracy_score\n",
    "import pickle\n",
    "from tqdm import tqdm_notebook\n",
    "import copy\n",
    "from google.colab import files"
   ]
  },
  {
   "cell_type": "code",
   "execution_count": 288,
   "metadata": {
    "id": "bs5KLECvEaWx"
   },
   "outputs": [],
   "source": [
    "np.random.seed(50)"
   ]
  },
  {
   "cell_type": "code",
   "execution_count": 289,
   "metadata": {
    "id": "VWF_27tQoMj5"
   },
   "outputs": [],
   "source": [
    "# Generate all possible 10-digit binary numbers\n",
    "def generate_all_binary_numbers():\n",
    "    binary_numbers = []\n",
    "    for i in range(2 ** 10):\n",
    "        binary_str = format(i, '010b')\n",
    "        binary_numbers.append([int(bit) for bit in binary_str])\n",
    "    return np.array(binary_numbers)\n",
    "\n",
    "# Generate all possible binary numbers\n",
    "all_binary_numbers = generate_all_binary_numbers()\n",
    "np.random.seed(50)\n",
    "np.random.shuffle(all_binary_numbers)\n",
    "def is_palindrome(binary_number):\n",
    "    return int(np.array_equal(binary_number, binary_number[::-1]))\n",
    "\n",
    "labels = np.array([is_palindrome(x) for x in all_binary_numbers])"
   ]
  },
  {
   "cell_type": "code",
   "execution_count": 290,
   "metadata": {
    "id": "Fxaz6sz4ZSam"
   },
   "outputs": [],
   "source": [
    "\n",
    "!rm -rf \"/content/history\" #remove directory history if already existent"
   ]
  },
  {
   "cell_type": "code",
   "execution_count": 291,
   "metadata": {
    "id": "eYM9YV1y1BLk"
   },
   "outputs": [],
   "source": [
    "\n",
    "! mkdir history #make directory history"
   ]
  },
  {
   "cell_type": "code",
   "execution_count": 292,
   "metadata": {
    "colab": {
     "base_uri": "https://localhost:8080/",
     "height": 70
    },
    "id": "m0aDJoKD86AB",
    "outputId": "58e00363-0b78-430a-9674-5b47783191ef"
   },
   "outputs": [
    {
     "name": "stdout",
     "output_type": "stream",
     "text": [
      "Running...\n"
     ]
    },
    {
     "data": {
      "application/vnd.google.colaboratory.intrinsic+json": {
       "type": "string"
      },
      "text/plain": [
       "'X = np.array([[1, 0], [0, 1], [0, 0], [1, 1]]) #input features (4 x 2 design matrix)\\nY = np.array([[1], [1], [0], [0]])#ground truth y labels (4x1)'"
      ]
     },
     "execution_count": 292,
     "metadata": {},
     "output_type": "execute_result"
    }
   ],
   "source": [
    "\n",
    "class MLP():\n",
    "\n",
    "    \"\"\"\n",
    "    This is the MLP class used to feedforward and backpropagate the network across a defined number\n",
    "    of iterations and produce predictions. After iteration the predictions are assessed using\n",
    "    Binary Cross Entropy Cost function.\n",
    "    \"\"\"\n",
    "\n",
    "    print('Running...')\n",
    "\n",
    "    def __init__(self, X, Y, epochs=1000, lr=1e-2, input_layer = 10,n_neurons = 5,output_layer =1,momentum=0.95,num_folds=4,batch_size=18):\n",
    "        self.X= X#design matrix attibute\n",
    "        self.epochs = epochs #iterations attibute\n",
    "        self.lr = lr #learning rate attibute\n",
    "        self.momentum = momentum #momentum rate attribute\n",
    "        self.input_layer = input_layer #input layer attibute\n",
    "        self.n_neurons = n_neurons #hidden layer attibute\n",
    "        self.output_layer = output_layer #output layer attibute\n",
    "        min=-1\n",
    "        max=1\n",
    "        '''self.w1 = np.random.rand(self.input_layer, self.n_neurons)\n",
    "        self.w2 = np.random.rand(self.n_neurons, 1)'''\n",
    "        np.random.seed(5)\n",
    "        self.w1 = np.random.uniform(min,max,size=(10, self.n_neurons)) #weight initialization from input to hidden layer #np.random.randn(self.input_layer, self.n_neurons)\n",
    "        np.random.seed(5)\n",
    "        self.w2 = np.random.uniform(min,max,size=(self.n_neurons, self.output_layer)) #weight initialization from hidden layer to output layer\n",
    "        #self.w2 = #np.random.randn(self.n_neurons, self.output_layer)#weight attribute connecting to the output layer\n",
    "        np.random.seed(5)\n",
    "        self.b1 = np.random.randn(1,self.n_neurons) #bias initialization from input to hidden layer\n",
    "        np.random.seed(5)\n",
    "        self.b2 = np.random.randn(1,1) #bias initialization from  hidden layer to output layer\n",
    "        self.velocity_w1 = np.zeros_like(self.w1) #weight1 velocity initialization\n",
    "        self.velocity_w2 = np.zeros_like(self.w2) #weight2 velocity initialization\n",
    "        self.velocity_b1 = np.zeros_like(self.b1) #bias1 velocity initialization\n",
    "        self.velocity_b2 = np.zeros_like(self.b2) #bias2 velocity initialization\n",
    "        self.cost = [] #cost list attribute\n",
    "        self.y_hats = [] #predictions list attribute\n",
    "        self.acc=[]\n",
    "        self.precision=[]\n",
    "        self.recall=[]\n",
    "        self.y_hats_test=[]\n",
    "        self.acc_test=[]\n",
    "        self.precision_test=[]\n",
    "        self.recall_test=[]\n",
    "        self.cost_test=[]\n",
    "        self.acc_fold=[]\n",
    "        self.precision_fold=[]\n",
    "        self.recall_fold=[]\n",
    "        self.acc_fold_test=[]\n",
    "        self.precision_fold_test=[]\n",
    "        self.recall_fold_test=[]\n",
    "        self.total_cost=[]\n",
    "        self.cost_fold=[]\n",
    "        self.num_folds=num_folds\n",
    "        self.Y = Y\n",
    "        self.batch_size=batch_size\n",
    "\n",
    "    def sigmoid(self, x): # sigmoid function used at the hidden layer and output layer\n",
    "        #return 1 / (1 + np.exp(-x))\n",
    "        return np.exp(-np.logaddexp(0, -x))\n",
    "\n",
    "    def sigmoid_derivative(self, x): # sigmoid derivative used for backpropgation\n",
    "        return self.sigmoid(x) * (1 - self.sigmoid(x))\n",
    "    def relu(self, x):\n",
    "        return np.maximum(x,0)\n",
    "\n",
    "    def relu_derivative(self,x):\n",
    "        return np.greater(x, 0).astype(int)\n",
    "    def tanh(self,x):\n",
    "         return (np.exp(x) - np.exp(-x))/(np.exp(x) + np.exp(-x))\n",
    "\n",
    "\n",
    "    def tanh_derivative(self,x):\n",
    "         return 1 - self.tanh(x) * self.tanh(x)\n",
    "\n",
    "    def forward_propagation(self,X):#define function to feedforward the network\n",
    "        self.a_1 = X\n",
    "        self.z_1 = self.w1.T @ self.a_1 + self.b1.T #linear transformation to the hidden layer\n",
    "        self.a_2 = self.relu(self.z_1) #hidden layer activation function\n",
    "        self.z_2 = self.w2.T @self.a_2 + self.b2.T #linear transformation to the output layer\n",
    "        self.y_hat = self.sigmoid(self.z_2) #output layer prediction\n",
    "        return self.a_1,self.z_1, self.a_2, self.z_2, self.y_hat\n",
    "\n",
    "    def BCECost(self, y, y_hat): # binary cross entropy cost function\n",
    "        bce_cost = -(y * np.log(y_hat+1e-6) + (1 - y) * np.log(1 - y_hat+1e-6))\n",
    "        return bce_cost\n",
    "\n",
    "    def backword_prop(self, a_1,z_1, a_2 , z_2, y_hat,y): #backpropagation\n",
    "        error = y_hat - y\n",
    "        self.dw2 =  error @ self.a_2.T #derivative of loss w.r.t weight2\n",
    "        self.db2 = error #derivative of loss w.r.t bias2\n",
    "        self.dw1 = (self.w2 @ error * self.relu_derivative(self.z_1)) @ self.a_1.T #derivative of loss w.r.t weight1\n",
    "        self.db1 = (self.w2 @ error * self.relu_derivative(self.z_1)) #derivative of loss w.r.t bias1\n",
    "        return self.dw1.T, self.dw2.T,self.db1.T,self.db2\n",
    "\n",
    "    def inference(self,x_test,y_test,k):\n",
    "      self.cost_test=[]\n",
    "      self.y_hats_test=[]\n",
    "      for i in range(x_test.shape[0]):\n",
    "              a_1,z_1, a_2, z_2, y_hat_test = self.forward_propagation(x_test[i].reshape(-1,1))\n",
    "              self.cost_test.append(self.BCECost(y_test[i].reshape(-1,1), y_hat_test))#store BCE costper sample in list\n",
    "              self.y_hats_test.append(0 if y_hat_test<0.5 else 1)#store predictions in list\n",
    "      print(f\"fold:{k}, precision: {precision_score(y_test,self.y_hats_test,zero_division=0)}, acc: {accuracy_score(y_test,self.y_hats_test)}, recall:{recall_score(y_test,self.y_hats_test)}, loss:{np.mean(self.cost_test)} \")\n",
    "      self.acc_test.append(accuracy_score(y_test,self.y_hats_test))\n",
    "      self.precision_test.append(precision_score(y_test,self.y_hats_test,zero_division=0))\n",
    "      #print(self.y_hats_test,y_test)\n",
    "      self.recall_test.append(recall_score(y_test,self.y_hats_test))\n",
    "\n",
    "    def plot(self,fold,cost,epoch):\n",
    "        plt.figure(figsize=(10, 6))\n",
    "        plt.plot(range(1, epoch+1), cost,label=\"loss\")\n",
    "        plt.xlabel('Epochs')\n",
    "        plt.ylabel('Loss')\n",
    "        plt.title(f'Loss over Epochs for fold{fold+1}')\n",
    "        plt.legend()\n",
    "        plt.show()\n",
    "        plt.savefig(f'history/{self.n_neurons}_loss_fold{fold}_us.png')\n",
    "        files.download(f'history/{self.n_neurons}_loss_fold{fold}_us.png')\n",
    "\n",
    "    def reset(self):\n",
    "        \"\"\"This helps resetting the weights after completition of run over one folds\"\"\"\n",
    "        min=-1 #(1/np.sqrt(10))\n",
    "        max=1 #/np.sqrt(10)\n",
    "        np.random.seed(10)\n",
    "        #self.w1 = np.random.rand(self.input_layer, self.n_neurons)\n",
    "        #self.w2 = np.random.rand(self.n_neurons, 1)\n",
    "        self.w1 = np.random.uniform(min,max,size=(10, self.n_neurons)) #np.random.randn(self.input_layer, self.n_neurons)\n",
    "        np.random.seed(5)\n",
    "        self.w2 = np.random.uniform(min,max,size=(self.n_neurons, self.output_layer))\n",
    "        np.random.seed(5)\n",
    "        self.b1 = np.random.randn(1,self.n_neurons)\n",
    "        np.random.seed(5)\n",
    "        self.b2 = np.random.randn(1,1)\n",
    "        self.velocity_w1 = np.zeros_like(self.w1)\n",
    "        self.velocity_w2 = np.zeros_like(self.w2)\n",
    "        self.velocity_b1 = np.zeros_like(self.b1)\n",
    "        self.velocity_b2 = np.zeros_like(self.b2)\n",
    "\n",
    "\n",
    "    def train(self):#train the network\n",
    "        skf = StratifiedKFold(n_splits=4)\n",
    "        ros = RandomOverSampler(sampling_strategy=\"not majority\") #random oversampling tried but not implemented in this code\n",
    "        for fold,(train_index, test_index) in enumerate(skf.split(self.X, self.Y)):\n",
    "            #print(\"len of train_index\",len(train_index))\n",
    "            #print(\"len of test_index\",len(test_index))\n",
    "            x_train_unsampled, x_test = self.X[train_index], self.X[test_index]\n",
    "            y_train_unsampled, y_test = self.Y[train_index], self.Y[test_index]\n",
    "            x_train, y_train = x_train_unsampled, y_train_unsampled #ros.fit_resample(\n",
    "            self.total_cost=[]\n",
    "            self.acc=[]\n",
    "            self.precision=[]\n",
    "            self.recall=[]\n",
    "            for epoch in  tqdm_notebook(range(self.epochs)):\n",
    "              self.y_hats=[]\n",
    "              self.cost=[]\n",
    "              for i in range(x_train.shape[0]):\n",
    "                      a_1,z_1, a_2, z_2, y_hat = self.forward_propagation(x_train[i].reshape(-1,1))# feedforward\n",
    "                      dw1, dw2,db1,db2 = self.backword_prop(a_1,z_1, a_2, z_2, y_hat,y_train[i].reshape(-1,1))#backpropgate\n",
    "                      self.velocity_w1 = self.momentum*self.velocity_w1 +(1-self.momentum)*dw1\n",
    "                      self.velocity_w2 = self.momentum*self.velocity_w2 +(1-self.momentum)*dw2\n",
    "                      self.velocity_b1 = self.momentum*self.velocity_b1 - self.lr*db1\n",
    "                      self.velocity_b2 = self.momentum*self.velocity_b2 - self.lr*db2\n",
    "                      self.w1 -= self.lr*self.velocity_w1#update weights connecting to the hidden layer (gradient descent)\n",
    "                      self.w2 -= self.lr*self.velocity_w2#update weights connecting to the output layer (gradient descent )\n",
    "                      self.b1 += self.velocity_b1\n",
    "                      self.b2 += self.velocity_b2\n",
    "                      self.cost.append(self.BCECost(y_train[i].reshape(-1,1), y_hat))#store BCE cost per sample in list\n",
    "                      self.y_hats.append(0 if y_hat<0.5 else 1)#store predictions per sample in list\n",
    "              self.acc.append(accuracy_score(y_train,self.y_hats))#store accuracy per epoch\n",
    "              self.precision.append(precision_score(y_train,self.y_hats,zero_division=0))#store precision per epoch\n",
    "              self.recall.append(recall_score(y_train,self.y_hats))#store recall per epoch\n",
    "              self.total_cost.append(np.mean(self.cost))#store cost per epoch\n",
    "              file_name_epoch = f'history/fold_{fold}.txt'\n",
    "              with open(file_name_epoch,'a') as text_file:\n",
    "                text_file.write(f'epoch: {epoch}, precision: {precision_score(y_train,self.y_hats,zero_division=0)}, acc: {accuracy_score(y_train,self.y_hats)}, recall: {recall_score(y_train,self.y_hats)}, loss: {np.mean(self.cost)}\\n')\n",
    "              if epoch%100==0:\n",
    "                print(f\"epoch: {epoch}, precision: {precision_score(y_train,self.y_hats,zero_division=0)}, acc: {accuracy_score(y_train,self.y_hats)}, recall: {recall_score(y_train,self.y_hats)}, loss: {np.mean(self.cost)}\")\n",
    "            file_name = f'history/fold_{fold}_model.pkl'\n",
    "            model = copy.deepcopy(self)\n",
    "            with open(file_name, 'wb') as file:\n",
    "                pickle.dump(model, file)\n",
    "                print(f'Weights successfully saved to \"{file_name}\"')\n",
    "            print(f'Train_precision: {np.mean(self.precision)}, Train_accuracy: {np.mean(self.acc)}, Train_recall: {np.mean(self.recall)}, Train_loss: {np.mean(self.total_cost)},')\n",
    "            model.inference(x_test,y_test,fold) #run model inference on test fold\n",
    "            self.plot(fold,self.total_cost,self.epochs) #plot loss for fold1\n",
    "            self.reset() #reset weights before running next fold\n",
    "\n",
    "\n",
    "\n",
    "\n",
    "\n",
    "\n",
    "        print('Training Complete')\n",
    "        print('----------------------------------------------------------------------------')\n",
    "\n",
    "# Prepare the XOR Logic Gate data: create an array for each training example x feature, and an array for each corrosponding y label.\n",
    "'''X = np.array([[1, 0], [0, 1], [0, 0], [1, 1]]) #input features (4 x 2 design matrix)\n",
    "Y = np.array([[1], [1], [0], [0]])#ground truth y labels (4x1)'''\n",
    "\n",
    "\n"
   ]
  },
  {
   "cell_type": "code",
   "execution_count": 293,
   "metadata": {
    "colab": {
     "base_uri": "https://localhost:8080/",
     "height": 1000,
     "referenced_widgets": [
      "f264fc0382634fcc8806908b3dd2b8af",
      "d4057919b4be401bb06c578a682a4e6a",
      "0f7b0ea9889b4515af3a75a1b3d1d750",
      "8b291b586e4840cebce7764488caffdc",
      "caf9d5ec799049818f80c80008ce91e0",
      "d00cd05c44184e9b9abcf67051787d77",
      "3874e3602df3487f997188d458fbd8f5",
      "862535a14c7845708af7196697be4bfc",
      "a698f1dd7a414593b4ce3363663c247e",
      "e657b2e6072f4f319b98ab38a3c71657",
      "03e8d7f389604575907bd0eb1f547270",
      "2c3f0e11b57945a2adfe1e94d8a5d58c",
      "5508784ffd244b56a82cdc38d31f8e22",
      "291fc14de89c4bd5bf4383f9165ca2d4",
      "ebfa3c9b58c843b1a9a0d8201ff540df",
      "c8077d89185e45deac983c43313021b1",
      "7a9361bf4db84293a30520de8beba16b",
      "46c2f2b98e2e4038a14d2accd29b185e",
      "3b8b7b21499c437eb46f7ba7189ec8cc",
      "e0f7fec3977a400ba39610d414dcbe87",
      "06bfa530317e4c4291dcd34408e67eb4",
      "7e40d9d2ec3a4be3925643a0d85cf17b",
      "4775f16aaa9a4d5480a669843b5d7338",
      "06dcdeaa1f35400cab3c090adf0026d6",
      "b9912742211c499fa6111fbfc4c0deb2",
      "2db53b9d4c3d4062913a4d397b4e134d",
      "f4a5f1d55a7e452a951e6d6830a01586",
      "59da2a8a6aa04437bfd7e926ec192288",
      "9c597a4ef7c242f89ae940e0586589a2",
      "a6eef2d4483c419687f9026f2142bae7",
      "e47ce104fff04431b2b04594a9fdb8a6",
      "94e5ee27038548ac9c09fa6e81ace29f",
      "1cffeea334a04c61b0e211e36e423381",
      "16373548251f4d96935fe1bf8258348c",
      "22ea1e8cf90f4d809f7643caa039b749",
      "41e7026570ad46ebaaf5c2f44e992b01",
      "5a685e1d83cc4f7598b87f6482086053",
      "152bac61df5042f1aa146c8307cc3c6d",
      "f9f404f29bac410599619d44b775fb41",
      "dabf4f4695014bcc8226e67f716080ec",
      "f692b29340854c4a80ba92cc032d8d89",
      "abc7b33e433441b0969d7c1d02548745",
      "e99c35d1ffae4f1e8fb41f103359cce7",
      "09f8876e522f4f198560475793e49064"
     ]
    },
    "id": "EB4zD9tZB5t4",
    "outputId": "b33659d5-c989-42b5-bf40-7efbc73459da"
   },
   "outputs": [
    {
     "name": "stderr",
     "output_type": "stream",
     "text": [
      "<ipython-input-292-052965ef8c2b>:153: TqdmDeprecationWarning: This function will be removed in tqdm==5.0.0\n",
      "Please use `tqdm.notebook.tqdm` instead of `tqdm.tqdm_notebook`\n",
      "  for epoch in  tqdm_notebook(range(self.epochs)):\n"
     ]
    },
    {
     "data": {
      "application/vnd.jupyter.widget-view+json": {
       "model_id": "f264fc0382634fcc8806908b3dd2b8af",
       "version_major": 2,
       "version_minor": 0
      },
      "text/plain": [
       "  0%|          | 0/1000 [00:00<?, ?it/s]"
      ]
     },
     "metadata": {},
     "output_type": "display_data"
    },
    {
     "name": "stdout",
     "output_type": "stream",
     "text": [
      "epoch: 0, precision: 0.14285714285714285, acc: 0.9622395833333334, recall: 0.041666666666666664, loss: 0.15866131138894538\n",
      "epoch: 100, precision: 1.0, acc: 0.9700520833333334, recall: 0.041666666666666664, loss: 0.09769072268233242\n",
      "epoch: 200, precision: 1.0, acc: 0.9791666666666666, recall: 0.3333333333333333, loss: 0.06688419422792458\n",
      "epoch: 300, precision: 1.0, acc: 0.9908854166666666, recall: 0.7083333333333334, loss: 0.033196151506087394\n",
      "epoch: 400, precision: 1.0, acc: 1.0, recall: 1.0, loss: 0.005866532233207852\n",
      "epoch: 500, precision: 1.0, acc: 1.0, recall: 1.0, loss: 0.0029644691000515317\n",
      "epoch: 600, precision: 1.0, acc: 1.0, recall: 1.0, loss: 0.001921053169475279\n",
      "epoch: 700, precision: 1.0, acc: 1.0, recall: 1.0, loss: 0.001433184109704071\n",
      "epoch: 800, precision: 1.0, acc: 1.0, recall: 1.0, loss: 0.001124504625271735\n",
      "epoch: 900, precision: 1.0, acc: 1.0, recall: 1.0, loss: 0.0009235606239806991\n",
      "Weights successfully saved to \"history/fold_0_model.pkl\"\n",
      "Train_precision: 0.906980336699764, Train_accuracy: 0.99224609375, Train_recall: 0.7542083333333334, Train_loss: 0.028645240211344576,\n",
      "fold:0, precision: 1.0, acc: 1.0, recall:1.0, loss:0.002969400107449195 \n"
     ]
    },
    {
     "data": {
      "image/png": "[encoded data removed]",
      "text/plain": [
       "<Figure size 1000x600 with 1 Axes>"
      ]
     },
     "metadata": {},
     "output_type": "display_data"
    },
    {
     "data": {
      "application/javascript": [
       "\n",
       "    async function download(id, filename, size) {\n",
       "      if (!google.colab.kernel.accessAllowed) {\n",
       "        return;\n",
       "      }\n",
       "      const div = document.createElement('div');\n",
       "      const label = document.createElement('label');\n",
       "      label.textContent = `Downloading \"${filename}\": `;\n",
       "      div.appendChild(label);\n",
       "      const progress = document.createElement('progress');\n",
       "      progress.max = size;\n",
       "      div.appendChild(progress);\n",
       "      document.body.appendChild(div);\n",
       "\n",
       "      const buffers = [];\n",
       "      let downloaded = 0;\n",
       "\n",
       "      const channel = await google.colab.kernel.comms.open(id);\n",
       "      // Send a message to notify the kernel that we're ready.\n",
       "      channel.send({})\n",
       "\n",
       "      for await (const message of channel.messages) {\n",
       "        // Send a message to notify the kernel that we're ready.\n",
       "        channel.send({})\n",
       "        if (message.buffers) {\n",
       "          for (const buffer of message.buffers) {\n",
       "            buffers.push(buffer);\n",
       "            downloaded += buffer.byteLength;\n",
       "            progress.value = downloaded;\n",
       "          }\n",
       "        }\n",
       "      }\n",
       "      const blob = new Blob(buffers, {type: 'application/binary'});\n",
       "      const a = document.createElement('a');\n",
       "      a.href = window.URL.createObjectURL(blob);\n",
       "      a.download = filename;\n",
       "      div.appendChild(a);\n",
       "      a.click();\n",
       "      div.remove();\n",
       "    }\n",
       "  "
      ],
      "text/plain": [
       "<IPython.core.display.Javascript object>"
      ]
     },
     "metadata": {},
     "output_type": "display_data"
    },
    {
     "data": {
      "application/javascript": [
       "download(\"download_8220a4cf-fc0b-461b-96e2-bf03d210c839\", \"5_loss_fold0_us.png\", 2396)"
      ],
      "text/plain": [
       "<IPython.core.display.Javascript object>"
      ]
     },
     "metadata": {},
     "output_type": "display_data"
    },
    {
     "name": "stderr",
     "output_type": "stream",
     "text": [
      "<ipython-input-292-052965ef8c2b>:153: TqdmDeprecationWarning: This function will be removed in tqdm==5.0.0\n",
      "Please use `tqdm.notebook.tqdm` instead of `tqdm.tqdm_notebook`\n",
      "  for epoch in  tqdm_notebook(range(self.epochs)):\n"
     ]
    },
    {
     "data": {
      "application/vnd.jupyter.widget-view+json": {
       "model_id": "2c3f0e11b57945a2adfe1e94d8a5d58c",
       "version_major": 2,
       "version_minor": 0
      },
      "text/plain": [
       "  0%|          | 0/1000 [00:00<?, ?it/s]"
      ]
     },
     "metadata": {},
     "output_type": "display_data"
    },
    {
     "name": "stdout",
     "output_type": "stream",
     "text": [
      "epoch: 0, precision: 0.0, acc: 0.9661458333333334, recall: 0.0, loss: 0.15920619076714734\n",
      "epoch: 100, precision: 0.0, acc: 0.96875, recall: 0.0, loss: 0.07354110783202557\n",
      "epoch: 200, precision: 1.0, acc: 1.0, recall: 1.0, loss: 0.012398168693360414\n",
      "epoch: 300, precision: 1.0, acc: 1.0, recall: 1.0, loss: 0.0038898471249138723\n",
      "epoch: 400, precision: 1.0, acc: 1.0, recall: 1.0, loss: 0.002051384977828349\n",
      "epoch: 500, precision: 1.0, acc: 1.0, recall: 1.0, loss: 0.001329765547983183\n",
      "epoch: 600, precision: 1.0, acc: 1.0, recall: 1.0, loss: 0.0009887343261621813\n",
      "epoch: 700, precision: 1.0, acc: 1.0, recall: 1.0, loss: 0.0007753346983073182\n",
      "epoch: 800, precision: 1.0, acc: 1.0, recall: 1.0, loss: 0.0006411365231684786\n",
      "epoch: 900, precision: 1.0, acc: 1.0, recall: 1.0, loss: 0.000532596960406244\n",
      "Weights successfully saved to \"history/fold_1_model.pkl\"\n",
      "Train_precision: 0.8886885448916408, Train_accuracy: 0.9959348958333333, Train_recall: 0.870125, Train_loss: 0.016863244201864882,\n",
      "fold:1, precision: 1.0, acc: 1.0, recall:1.0, loss:0.0005372617030668723 \n"
     ]
    },
    {
     "data": {
      "text/plain": [
       "<Figure size 640x480 with 0 Axes>"
      ]
     },
     "metadata": {},
     "output_type": "display_data"
    },
    {
     "data": {
      "image/png": "[encoded data removed]",
      "text/plain": [
       "<Figure size 1000x600 with 1 Axes>"
      ]
     },
     "metadata": {},
     "output_type": "display_data"
    },
    {
     "data": {
      "application/javascript": [
       "\n",
       "    async function download(id, filename, size) {\n",
       "      if (!google.colab.kernel.accessAllowed) {\n",
       "        return;\n",
       "      }\n",
       "      const div = document.createElement('div');\n",
       "      const label = document.createElement('label');\n",
       "      label.textContent = `Downloading \"${filename}\": `;\n",
       "      div.appendChild(label);\n",
       "      const progress = document.createElement('progress');\n",
       "      progress.max = size;\n",
       "      div.appendChild(progress);\n",
       "      document.body.appendChild(div);\n",
       "\n",
       "      const buffers = [];\n",
       "      let downloaded = 0;\n",
       "\n",
       "      const channel = await google.colab.kernel.comms.open(id);\n",
       "      // Send a message to notify the kernel that we're ready.\n",
       "      channel.send({})\n",
       "\n",
       "      for await (const message of channel.messages) {\n",
       "        // Send a message to notify the kernel that we're ready.\n",
       "        channel.send({})\n",
       "        if (message.buffers) {\n",
       "          for (const buffer of message.buffers) {\n",
       "            buffers.push(buffer);\n",
       "            downloaded += buffer.byteLength;\n",
       "            progress.value = downloaded;\n",
       "          }\n",
       "        }\n",
       "      }\n",
       "      const blob = new Blob(buffers, {type: 'application/binary'});\n",
       "      const a = document.createElement('a');\n",
       "      a.href = window.URL.createObjectURL(blob);\n",
       "      a.download = filename;\n",
       "      div.appendChild(a);\n",
       "      a.click();\n",
       "      div.remove();\n",
       "    }\n",
       "  "
      ],
      "text/plain": [
       "<IPython.core.display.Javascript object>"
      ]
     },
     "metadata": {},
     "output_type": "display_data"
    },
    {
     "data": {
      "application/javascript": [
       "download(\"download_9f11b679-e334-4e8b-950f-0bfaa6c76ffd\", \"5_loss_fold1_us.png\", 2396)"
      ],
      "text/plain": [
       "<IPython.core.display.Javascript object>"
      ]
     },
     "metadata": {},
     "output_type": "display_data"
    },
    {
     "name": "stderr",
     "output_type": "stream",
     "text": [
      "<ipython-input-292-052965ef8c2b>:153: TqdmDeprecationWarning: This function will be removed in tqdm==5.0.0\n",
      "Please use `tqdm.notebook.tqdm` instead of `tqdm.tqdm_notebook`\n",
      "  for epoch in  tqdm_notebook(range(self.epochs)):\n"
     ]
    },
    {
     "data": {
      "application/vnd.jupyter.widget-view+json": {
       "model_id": "4775f16aaa9a4d5480a669843b5d7338",
       "version_major": 2,
       "version_minor": 0
      },
      "text/plain": [
       "  0%|          | 0/1000 [00:00<?, ?it/s]"
      ]
     },
     "metadata": {},
     "output_type": "display_data"
    },
    {
     "name": "stdout",
     "output_type": "stream",
     "text": [
      "epoch: 0, precision: 0.0, acc: 0.9661458333333334, recall: 0.0, loss: 0.165207784947051\n",
      "epoch: 100, precision: 0.0, acc: 0.96875, recall: 0.0, loss: 0.09762364275782032\n",
      "epoch: 200, precision: 1.0, acc: 0.99609375, recall: 0.875, loss: 0.024905986871821013\n",
      "epoch: 300, precision: 1.0, acc: 1.0, recall: 1.0, loss: 0.004257268401705251\n",
      "epoch: 400, precision: 1.0, acc: 1.0, recall: 1.0, loss: 0.002159178623999875\n",
      "epoch: 500, precision: 1.0, acc: 1.0, recall: 1.0, loss: 0.0014367751337956913\n",
      "epoch: 600, precision: 1.0, acc: 1.0, recall: 1.0, loss: 0.001059563991034125\n",
      "epoch: 700, precision: 1.0, acc: 1.0, recall: 1.0, loss: 0.0008345767803800636\n",
      "epoch: 800, precision: 1.0, acc: 1.0, recall: 1.0, loss: 0.0006777862991923659\n",
      "epoch: 900, precision: 1.0, acc: 1.0, recall: 1.0, loss: 0.0005686664443446282\n",
      "Weights successfully saved to \"history/fold_2_model.pkl\"\n",
      "Train_precision: 0.8612573257023335, Train_accuracy: 0.9949361979166668, Train_recall: 0.8397083333333334, Train_loss: 0.020285350667992388,\n",
      "fold:2, precision: 1.0, acc: 1.0, recall:1.0, loss:0.0005250162654672001 \n"
     ]
    },
    {
     "data": {
      "text/plain": [
       "<Figure size 640x480 with 0 Axes>"
      ]
     },
     "metadata": {},
     "output_type": "display_data"
    },
    {
     "data": {
      "image/png": "[encoded data removed]",
      "text/plain": [
       "<Figure size 1000x600 with 1 Axes>"
      ]
     },
     "metadata": {},
     "output_type": "display_data"
    },
    {
     "data": {
      "application/javascript": [
       "\n",
       "    async function download(id, filename, size) {\n",
       "      if (!google.colab.kernel.accessAllowed) {\n",
       "        return;\n",
       "      }\n",
       "      const div = document.createElement('div');\n",
       "      const label = document.createElement('label');\n",
       "      label.textContent = `Downloading \"${filename}\": `;\n",
       "      div.appendChild(label);\n",
       "      const progress = document.createElement('progress');\n",
       "      progress.max = size;\n",
       "      div.appendChild(progress);\n",
       "      document.body.appendChild(div);\n",
       "\n",
       "      const buffers = [];\n",
       "      let downloaded = 0;\n",
       "\n",
       "      const channel = await google.colab.kernel.comms.open(id);\n",
       "      // Send a message to notify the kernel that we're ready.\n",
       "      channel.send({})\n",
       "\n",
       "      for await (const message of channel.messages) {\n",
       "        // Send a message to notify the kernel that we're ready.\n",
       "        channel.send({})\n",
       "        if (message.buffers) {\n",
       "          for (const buffer of message.buffers) {\n",
       "            buffers.push(buffer);\n",
       "            downloaded += buffer.byteLength;\n",
       "            progress.value = downloaded;\n",
       "          }\n",
       "        }\n",
       "      }\n",
       "      const blob = new Blob(buffers, {type: 'application/binary'});\n",
       "      const a = document.createElement('a');\n",
       "      a.href = window.URL.createObjectURL(blob);\n",
       "      a.download = filename;\n",
       "      div.appendChild(a);\n",
       "      a.click();\n",
       "      div.remove();\n",
       "    }\n",
       "  "
      ],
      "text/plain": [
       "<IPython.core.display.Javascript object>"
      ]
     },
     "metadata": {},
     "output_type": "display_data"
    },
    {
     "data": {
      "application/javascript": [
       "download(\"download_a1c0332b-c16d-4ba3-8135-7331882e5843\", \"5_loss_fold2_us.png\", 2396)"
      ],
      "text/plain": [
       "<IPython.core.display.Javascript object>"
      ]
     },
     "metadata": {},
     "output_type": "display_data"
    },
    {
     "name": "stderr",
     "output_type": "stream",
     "text": [
      "<ipython-input-292-052965ef8c2b>:153: TqdmDeprecationWarning: This function will be removed in tqdm==5.0.0\n",
      "Please use `tqdm.notebook.tqdm` instead of `tqdm.tqdm_notebook`\n",
      "  for epoch in  tqdm_notebook(range(self.epochs)):\n"
     ]
    },
    {
     "data": {
      "application/vnd.jupyter.widget-view+json": {
       "model_id": "16373548251f4d96935fe1bf8258348c",
       "version_major": 2,
       "version_minor": 0
      },
      "text/plain": [
       "  0%|          | 0/1000 [00:00<?, ?it/s]"
      ]
     },
     "metadata": {},
     "output_type": "display_data"
    },
    {
     "name": "stdout",
     "output_type": "stream",
     "text": [
      "epoch: 0, precision: 0.0, acc: 0.9661458333333334, recall: 0.0, loss: 0.16444554086654498\n",
      "epoch: 100, precision: 0.0, acc: 0.96875, recall: 0.0, loss: 0.10504122358548297\n",
      "epoch: 200, precision: 0.8, acc: 0.97265625, recall: 0.16666666666666666, loss: 0.0753163017581252\n",
      "epoch: 300, precision: 0.75, acc: 0.9765625, recall: 0.375, loss: 0.057388427119988906\n",
      "epoch: 400, precision: 0.7, acc: 0.9739583333333334, recall: 0.2916666666666667, loss: 0.07145586433883365\n",
      "epoch: 500, precision: 1.0, acc: 0.9856770833333334, recall: 0.5416666666666666, loss: 0.0465193749858169\n",
      "epoch: 600, precision: 1.0, acc: 0.9947916666666666, recall: 0.8333333333333334, loss: 0.021179145653911616\n",
      "epoch: 700, precision: 1.0, acc: 0.9973958333333334, recall: 0.9166666666666666, loss: 0.01648520727279587\n",
      "epoch: 800, precision: 1.0, acc: 1.0, recall: 1.0, loss: 0.0012500636857522872\n",
      "epoch: 900, precision: 1.0, acc: 1.0, recall: 1.0, loss: 0.0008123604709904894\n",
      "Weights successfully saved to \"history/fold_3_model.pkl\"\n",
      "Train_precision: 0.8051743444076302, Train_accuracy: 0.98600390625, Train_recall: 0.5721666666666666, Train_loss: 0.045586086516029224,\n",
      "fold:3, precision: 1.0, acc: 1.0, recall:1.0, loss:0.0008340517646556469 \n"
     ]
    },
    {
     "data": {
      "text/plain": [
       "<Figure size 640x480 with 0 Axes>"
      ]
     },
     "metadata": {},
     "output_type": "display_data"
    },
    {
     "data": {
      "image/png": "[encoded data removed]",
      "text/plain": [
       "<Figure size 1000x600 with 1 Axes>"
      ]
     },
     "metadata": {},
     "output_type": "display_data"
    },
    {
     "data": {
      "application/javascript": [
       "\n",
       "    async function download(id, filename, size) {\n",
       "      if (!google.colab.kernel.accessAllowed) {\n",
       "        return;\n",
       "      }\n",
       "      const div = document.createElement('div');\n",
       "      const label = document.createElement('label');\n",
       "      label.textContent = `Downloading \"${filename}\": `;\n",
       "      div.appendChild(label);\n",
       "      const progress = document.createElement('progress');\n",
       "      progress.max = size;\n",
       "      div.appendChild(progress);\n",
       "      document.body.appendChild(div);\n",
       "\n",
       "      const buffers = [];\n",
       "      let downloaded = 0;\n",
       "\n",
       "      const channel = await google.colab.kernel.comms.open(id);\n",
       "      // Send a message to notify the kernel that we're ready.\n",
       "      channel.send({})\n",
       "\n",
       "      for await (const message of channel.messages) {\n",
       "        // Send a message to notify the kernel that we're ready.\n",
       "        channel.send({})\n",
       "        if (message.buffers) {\n",
       "          for (const buffer of message.buffers) {\n",
       "            buffers.push(buffer);\n",
       "            downloaded += buffer.byteLength;\n",
       "            progress.value = downloaded;\n",
       "          }\n",
       "        }\n",
       "      }\n",
       "      const blob = new Blob(buffers, {type: 'application/binary'});\n",
       "      const a = document.createElement('a');\n",
       "      a.href = window.URL.createObjectURL(blob);\n",
       "      a.download = filename;\n",
       "      div.appendChild(a);\n",
       "      a.click();\n",
       "      div.remove();\n",
       "    }\n",
       "  "
      ],
      "text/plain": [
       "<IPython.core.display.Javascript object>"
      ]
     },
     "metadata": {},
     "output_type": "display_data"
    },
    {
     "data": {
      "application/javascript": [
       "download(\"download_f12da7a7-72f2-45b0-9743-586a64c95fac\", \"5_loss_fold3_us.png\", 2396)"
      ],
      "text/plain": [
       "<IPython.core.display.Javascript object>"
      ]
     },
     "metadata": {},
     "output_type": "display_data"
    },
    {
     "name": "stdout",
     "output_type": "stream",
     "text": [
      "Training Complete\n",
      "----------------------------------------------------------------------------\n"
     ]
    },
    {
     "data": {
      "text/plain": [
       "<Figure size 640x480 with 0 Axes>"
      ]
     },
     "metadata": {},
     "output_type": "display_data"
    }
   ],
   "source": [
    "mlp = MLP(all_binary_numbers,labels)#Pass data to the model (design matrix and y label)\n",
    "mlp.train() #Train the model"
   ]
  },
  {
   "cell_type": "code",
   "execution_count": 294,
   "metadata": {
    "id": "LNb84t2dq_gm"
   },
   "outputs": [],
   "source": [
    "with open(\"/content/history/fold_3_model.pkl\",\"rb\") as f:\n",
    "  model = pickle.load(f)#load model if present in local directory on colab"
   ]
  },
  {
   "cell_type": "code",
   "execution_count": 295,
   "metadata": {
    "colab": {
     "base_uri": "https://localhost:8080/",
     "height": 430
    },
    "id": "vCNqbq1jvIxl",
    "outputId": "400811bf-f154-4409-93bd-3546de8548f3"
   },
   "outputs": [
    {
     "data": {
      "image/png": "[encoded data removed]",
      "text/plain": [
       "<Figure size 640x480 with 2 Axes>"
      ]
     },
     "metadata": {},
     "output_type": "display_data"
    }
   ],
   "source": [
    "import matplotlib.pyplot as plt\n",
    "#print(\"Max = \",np.max(net.w1),\" Min = \",np.min(net.w1))\n",
    "fig= plt.imshow(model.w1,cmap='jet') #visualize weight matrix1\n",
    "plt.colorbar(fig)\n",
    "plt.show()\n"
   ]
  },
  {
   "cell_type": "code",
   "execution_count": 296,
   "metadata": {
    "colab": {
     "base_uri": "https://localhost:8080/",
     "height": 430
    },
    "id": "OztZ_l37vT_j",
    "outputId": "2a952244-6353-4707-d07a-364ad35ee920"
   },
   "outputs": [
    {
     "data": {
      "image/png": "[encoded data removed]",
      "text/plain": [
       "<Figure size 640x480 with 2 Axes>"
      ]
     },
     "metadata": {},
     "output_type": "display_data"
    }
   ],
   "source": [
    "#print(\"Max = \",np.max(net.w1),\" Min = \",np.min(net.w1))\n",
    "fig= plt.imshow(mlp.w2,cmap='jet') #visualize weight matrix2\n",
    "plt.colorbar(fig)\n",
    "plt.show()"
   ]
  },
  {
   "cell_type": "markdown",
   "metadata": {
    "id": "EspAbxFI8ZWA"
   },
   "source": [
    "#Demo code"
   ]
  },
  {
   "cell_type": "code",
   "execution_count": 297,
   "metadata": {
    "id": "jR3IURlVA4x0"
   },
   "outputs": [],
   "source": [
    "import pickle\n",
    "import numpy as np"
   ]
  },
  {
   "cell_type": "code",
   "execution_count": 298,
   "metadata": {
    "colab": {
     "base_uri": "https://localhost:8080/"
    },
    "id": "1d2lhEPpA67w",
    "outputId": "f2ffdbe7-b44c-41a3-c183-0b53f0774d55"
   },
   "outputs": [
    {
     "name": "stdout",
     "output_type": "stream",
     "text": [
      "unzip:  cannot find or open /content/demo_code_final_16_neurons_history.zip, /content/demo_code_final_16_neurons_history.zip.zip or /content/demo_code_final_16_neurons_history.zip.ZIP.\n"
     ]
    }
   ],
   "source": [
    "!unzip '/content/demo_code_final_16_neurons_history.zip' #unzip the loaded history_5neurons.zip folder"
   ]
  },
  {
   "cell_type": "code",
   "execution_count": 299,
   "metadata": {
    "id": "yEzZRrFAvoi_"
   },
   "outputs": [],
   "source": [
    "with open ('/content/history/fold_2_model.pkl', 'rb' ) as f: #load the model\n",
    "  model = pickle.load(f)"
   ]
  },
  {
   "cell_type": "code",
   "execution_count": 300,
   "metadata": {
    "colab": {
     "base_uri": "https://localhost:8080/"
    },
    "id": "3F-KcSYztuOG",
    "outputId": "dea0ec21-029d-4aac-de98-bf036f3fcc28"
   },
   "outputs": [
    {
     "name": "stdout",
     "output_type": "stream",
     "text": [
      "The number isn't palindrome\n"
     ]
    }
   ],
   "source": [
    "input = np.array([0,0,1,0,1,1,0,1,0,1]).reshape(-1,1) #provide the input to the list\n",
    "x,z1,a2,z2,pred = model.forward_propagation(input)\n",
    "if pred<0.5:\n",
    "  print(\"The number isn't palindrome\")\n",
    "else: print(\"The number is palindrome\")"
   ]
  },
  {
   "cell_type": "code",
   "execution_count": 301,
   "metadata": {
    "colab": {
     "base_uri": "https://localhost:8080/",
     "height": 430
    },
    "id": "fY5ctJBqRv2r",
    "outputId": "07663c58-8739-4fca-8baf-f7b86d598f6a"
   },
   "outputs": [
    {
     "data": {
      "image/png": "[encoded data removed]",
      "text/plain": [
       "<Figure size 640x480 with 2 Axes>"
      ]
     },
     "metadata": {},
     "output_type": "display_data"
    }
   ],
   "source": [
    "fig= plt.imshow(a2,cmap='jet') #for positive sample the response of hidden layer activations\n",
    "plt.colorbar(fig)\n",
    "plt.show()"
   ]
  },
  {
   "cell_type": "code",
   "execution_count": 302,
   "metadata": {
    "colab": {
     "base_uri": "https://localhost:8080/",
     "height": 430
    },
    "id": "pvjd94GMSCrf",
    "outputId": "51305db6-dd04-445c-e0cc-920ff588bf9b"
   },
   "outputs": [
    {
     "data": {
      "image/png": "[encoded data removed]",
      "text/plain": [
       "<Figure size 640x480 with 2 Axes>"
      ]
     },
     "metadata": {},
     "output_type": "display_data"
    }
   ],
   "source": [
    "fig= plt.imshow(a2,cmap='jet') #for negative sample the response of hidden layer activations\n",
    "plt.colorbar(fig)\n",
    "plt.show()"
   ]
  },
  {
   "cell_type": "code",
   "execution_count": 303,
   "metadata": {
    "colab": {
     "base_uri": "https://localhost:8080/"
    },
    "id": "XlssbU1vufKb",
    "outputId": "8adaa8b7-63a9-4cef-fcf6-b4c494ffe0f6"
   },
   "outputs": [
    {
     "name": "stdout",
     "output_type": "stream",
     "text": [
      "updating: content/history/ (stored 0%)\n",
      "updating: content/history/5_loss_fold3_us.png (deflated 90%)\n",
      "updating: content/history/fold_2.txt (deflated 83%)\n",
      "updating: content/history/5_loss_fold1_us.png (deflated 90%)\n",
      "updating: content/history/fold_1_model.pkl (deflated 92%)\n",
      "updating: content/history/5_loss_fold0_us.png (deflated 90%)\n",
      "updating: content/history/5_loss_fold2_us.png (deflated 90%)\n",
      "updating: content/history/fold_0_model.pkl (deflated 91%)\n",
      "updating: content/history/fold_1.txt (deflated 83%)\n",
      "updating: content/history/fold_0.txt (deflated 83%)\n",
      "updating: content/history/fold_2_model.pkl (deflated 91%)\n",
      "updating: content/history/fold_3_model.pkl (deflated 91%)\n",
      "updating: content/history/fold_3.txt (deflated 84%)\n"
     ]
    }
   ],
   "source": [
    "!zip -r /content/history.zip /content/history #zipping the current history file for download"
   ]
  },
  {
   "cell_type": "code",
   "execution_count": 303,
   "metadata": {
    "id": "Zg9TTs712s2c"
   },
   "outputs": [],
   "source": []
  }
 ],
 "metadata": {
  "colab": {
   "provenance": []
  },
  "kernelspec": {
   "display_name": "Python 3 (ipykernel)",
   "language": "python",
   "name": "python3"
  },
  "language_info": {
   "codemirror_mode": {
    "name": "ipython",
    "version": 3
   },
   "file_extension": ".py",
   "mimetype": "text/x-python",
   "name": "python",
   "nbconvert_exporter": "python",
   "pygments_lexer": "ipython3",
   "version": "3.11.3"
  },
  "widgets": {
   "application/vnd.jupyter.widget-state+json": {
    "03e8d7f389604575907bd0eb1f547270": {
     "model_module": "@jupyter-widgets/controls",
     "model_module_version": "1.5.0",
     "model_name": "DescriptionStyleModel",
     "state": {
      "_model_module": "@jupyter-widgets/controls",
      "_model_module_version": "1.5.0",
      "_model_name": "DescriptionStyleModel",
      "_view_count": null,
      "_view_module": "@jupyter-widgets/base",
      "_view_module_version": "1.2.0",
      "_view_name": "StyleView",
      "description_width": ""
     }
    },
    "06bfa530317e4c4291dcd34408e67eb4": {
     "model_module": "@jupyter-widgets/base",
     "model_module_version": "1.2.0",
     "model_name": "LayoutModel",
     "state": {
      "_model_module": "@jupyter-widgets/base",
      "_model_module_version": "1.2.0",
      "_model_name": "LayoutModel",
      "_view_count": null,
      "_view_module": "@jupyter-widgets/base",
      "_view_module_version": "1.2.0",
      "_view_name": "LayoutView",
      "align_content": null,
      "align_items": null,
      "align_self": null,
      "border": null,
      "bottom": null,
      "display": null,
      "flex": null,
      "flex_flow": null,
      "grid_area": null,
      "grid_auto_columns": null,
      "grid_auto_flow": null,
      "grid_auto_rows": null,
      "grid_column": null,
      "grid_gap": null,
      "grid_row": null,
      "grid_template_areas": null,
      "grid_template_columns": null,
      "grid_template_rows": null,
      "height": null,
      "justify_content": null,
      "justify_items": null,
      "left": null,
      "margin": null,
      "max_height": null,
      "max_width": null,
      "min_height": null,
      "min_width": null,
      "object_fit": null,
      "object_position": null,
      "order": null,
      "overflow": null,
      "overflow_x": null,
      "overflow_y": null,
      "padding": null,
      "right": null,
      "top": null,
      "visibility": null,
      "width": null
     }
    },
    "06dcdeaa1f35400cab3c090adf0026d6": {
     "model_module": "@jupyter-widgets/controls",
     "model_module_version": "1.5.0",
     "model_name": "HTMLModel",
     "state": {
      "_dom_classes": [],
      "_model_module": "@jupyter-widgets/controls",
      "_model_module_version": "1.5.0",
      "_model_name": "HTMLModel",
      "_view_count": null,
      "_view_module": "@jupyter-widgets/controls",
      "_view_module_version": "1.5.0",
      "_view_name": "HTMLView",
      "description": "",
      "description_tooltip": null,
      "layout": "IPY_MODEL_59da2a8a6aa04437bfd7e926ec192288",
      "placeholder": "​",
      "style": "IPY_MODEL_9c597a4ef7c242f89ae940e0586589a2",
      "value": "100%"
     }
    },
    "09f8876e522f4f198560475793e49064": {
     "model_module": "@jupyter-widgets/controls",
     "model_module_version": "1.5.0",
     "model_name": "DescriptionStyleModel",
     "state": {
      "_model_module": "@jupyter-widgets/controls",
      "_model_module_version": "1.5.0",
      "_model_name": "DescriptionStyleModel",
      "_view_count": null,
      "_view_module": "@jupyter-widgets/base",
      "_view_module_version": "1.2.0",
      "_view_name": "StyleView",
      "description_width": ""
     }
    },
    "0f7b0ea9889b4515af3a75a1b3d1d750": {
     "model_module": "@jupyter-widgets/controls",
     "model_module_version": "1.5.0",
     "model_name": "FloatProgressModel",
     "state": {
      "_dom_classes": [],
      "_model_module": "@jupyter-widgets/controls",
      "_model_module_version": "1.5.0",
      "_model_name": "FloatProgressModel",
      "_view_count": null,
      "_view_module": "@jupyter-widgets/controls",
      "_view_module_version": "1.5.0",
      "_view_name": "ProgressView",
      "bar_style": "success",
      "description": "",
      "description_tooltip": null,
      "layout": "IPY_MODEL_862535a14c7845708af7196697be4bfc",
      "max": 1000,
      "min": 0,
      "orientation": "horizontal",
      "style": "IPY_MODEL_a698f1dd7a414593b4ce3363663c247e",
      "value": 1000
     }
    },
    "152bac61df5042f1aa146c8307cc3c6d": {
     "model_module": "@jupyter-widgets/base",
     "model_module_version": "1.2.0",
     "model_name": "LayoutModel",
     "state": {
      "_model_module": "@jupyter-widgets/base",
      "_model_module_version": "1.2.0",
      "_model_name": "LayoutModel",
      "_view_count": null,
      "_view_module": "@jupyter-widgets/base",
      "_view_module_version": "1.2.0",
      "_view_name": "LayoutView",
      "align_content": null,
      "align_items": null,
      "align_self": null,
      "border": null,
      "bottom": null,
      "display": null,
      "flex": null,
      "flex_flow": null,
      "grid_area": null,
      "grid_auto_columns": null,
      "grid_auto_flow": null,
      "grid_auto_rows": null,
      "grid_column": null,
      "grid_gap": null,
      "grid_row": null,
      "grid_template_areas": null,
      "grid_template_columns": null,
      "grid_template_rows": null,
      "height": null,
      "justify_content": null,
      "justify_items": null,
      "left": null,
      "margin": null,
      "max_height": null,
      "max_width": null,
      "min_height": null,
      "min_width": null,
      "object_fit": null,
      "object_position": null,
      "order": null,
      "overflow": null,
      "overflow_x": null,
      "overflow_y": null,
      "padding": null,
      "right": null,
      "top": null,
      "visibility": null,
      "width": null
     }
    },
    "16373548251f4d96935fe1bf8258348c": {
     "model_module": "@jupyter-widgets/controls",
     "model_module_version": "1.5.0",
     "model_name": "HBoxModel",
     "state": {
      "_dom_classes": [],
      "_model_module": "@jupyter-widgets/controls",
      "_model_module_version": "1.5.0",
      "_model_name": "HBoxModel",
      "_view_count": null,
      "_view_module": "@jupyter-widgets/controls",
      "_view_module_version": "1.5.0",
      "_view_name": "HBoxView",
      "box_style": "",
      "children": [
       "IPY_MODEL_22ea1e8cf90f4d809f7643caa039b749",
       "IPY_MODEL_41e7026570ad46ebaaf5c2f44e992b01",
       "IPY_MODEL_5a685e1d83cc4f7598b87f6482086053"
      ],
      "layout": "IPY_MODEL_152bac61df5042f1aa146c8307cc3c6d"
     }
    },
    "1cffeea334a04c61b0e211e36e423381": {
     "model_module": "@jupyter-widgets/controls",
     "model_module_version": "1.5.0",
     "model_name": "DescriptionStyleModel",
     "state": {
      "_model_module": "@jupyter-widgets/controls",
      "_model_module_version": "1.5.0",
      "_model_name": "DescriptionStyleModel",
      "_view_count": null,
      "_view_module": "@jupyter-widgets/base",
      "_view_module_version": "1.2.0",
      "_view_name": "StyleView",
      "description_width": ""
     }
    },
    "22ea1e8cf90f4d809f7643caa039b749": {
     "model_module": "@jupyter-widgets/controls",
     "model_module_version": "1.5.0",
     "model_name": "HTMLModel",
     "state": {
      "_dom_classes": [],
      "_model_module": "@jupyter-widgets/controls",
      "_model_module_version": "1.5.0",
      "_model_name": "HTMLModel",
      "_view_count": null,
      "_view_module": "@jupyter-widgets/controls",
      "_view_module_version": "1.5.0",
      "_view_name": "HTMLView",
      "description": "",
      "description_tooltip": null,
      "layout": "IPY_MODEL_f9f404f29bac410599619d44b775fb41",
      "placeholder": "​",
      "style": "IPY_MODEL_dabf4f4695014bcc8226e67f716080ec",
      "value": "100%"
     }
    },
    "291fc14de89c4bd5bf4383f9165ca2d4": {
     "model_module": "@jupyter-widgets/controls",
     "model_module_version": "1.5.0",
     "model_name": "FloatProgressModel",
     "state": {
      "_dom_classes": [],
      "_model_module": "@jupyter-widgets/controls",
      "_model_module_version": "1.5.0",
      "_model_name": "FloatProgressModel",
      "_view_count": null,
      "_view_module": "@jupyter-widgets/controls",
      "_view_module_version": "1.5.0",
      "_view_name": "ProgressView",
      "bar_style": "success",
      "description": "",
      "description_tooltip": null,
      "layout": "IPY_MODEL_3b8b7b21499c437eb46f7ba7189ec8cc",
      "max": 1000,
      "min": 0,
      "orientation": "horizontal",
      "style": "IPY_MODEL_e0f7fec3977a400ba39610d414dcbe87",
      "value": 1000
     }
    },
    "2c3f0e11b57945a2adfe1e94d8a5d58c": {
     "model_module": "@jupyter-widgets/controls",
     "model_module_version": "1.5.0",
     "model_name": "HBoxModel",
     "state": {
      "_dom_classes": [],
      "_model_module": "@jupyter-widgets/controls",
      "_model_module_version": "1.5.0",
      "_model_name": "HBoxModel",
      "_view_count": null,
      "_view_module": "@jupyter-widgets/controls",
      "_view_module_version": "1.5.0",
      "_view_name": "HBoxView",
      "box_style": "",
      "children": [
       "IPY_MODEL_5508784ffd244b56a82cdc38d31f8e22",
       "IPY_MODEL_291fc14de89c4bd5bf4383f9165ca2d4",
       "IPY_MODEL_ebfa3c9b58c843b1a9a0d8201ff540df"
      ],
      "layout": "IPY_MODEL_c8077d89185e45deac983c43313021b1"
     }
    },
    "2db53b9d4c3d4062913a4d397b4e134d": {
     "model_module": "@jupyter-widgets/controls",
     "model_module_version": "1.5.0",
     "model_name": "HTMLModel",
     "state": {
      "_dom_classes": [],
      "_model_module": "@jupyter-widgets/controls",
      "_model_module_version": "1.5.0",
      "_model_name": "HTMLModel",
      "_view_count": null,
      "_view_module": "@jupyter-widgets/controls",
      "_view_module_version": "1.5.0",
      "_view_name": "HTMLView",
      "description": "",
      "description_tooltip": null,
      "layout": "IPY_MODEL_94e5ee27038548ac9c09fa6e81ace29f",
      "placeholder": "​",
      "style": "IPY_MODEL_1cffeea334a04c61b0e211e36e423381",
      "value": " 1000/1000 [01:46&lt;00:00,  8.51it/s]"
     }
    },
    "3874e3602df3487f997188d458fbd8f5": {
     "model_module": "@jupyter-widgets/controls",
     "model_module_version": "1.5.0",
     "model_name": "DescriptionStyleModel",
     "state": {
      "_model_module": "@jupyter-widgets/controls",
      "_model_module_version": "1.5.0",
      "_model_name": "DescriptionStyleModel",
      "_view_count": null,
      "_view_module": "@jupyter-widgets/base",
      "_view_module_version": "1.2.0",
      "_view_name": "StyleView",
      "description_width": ""
     }
    },
    "3b8b7b21499c437eb46f7ba7189ec8cc": {
     "model_module": "@jupyter-widgets/base",
     "model_module_version": "1.2.0",
     "model_name": "LayoutModel",
     "state": {
      "_model_module": "@jupyter-widgets/base",
      "_model_module_version": "1.2.0",
      "_model_name": "LayoutModel",
      "_view_count": null,
      "_view_module": "@jupyter-widgets/base",
      "_view_module_version": "1.2.0",
      "_view_name": "LayoutView",
      "align_content": null,
      "align_items": null,
      "align_self": null,
      "border": null,
      "bottom": null,
      "display": null,
      "flex": null,
      "flex_flow": null,
      "grid_area": null,
      "grid_auto_columns": null,
      "grid_auto_flow": null,
      "grid_auto_rows": null,
      "grid_column": null,
      "grid_gap": null,
      "grid_row": null,
      "grid_template_areas": null,
      "grid_template_columns": null,
      "grid_template_rows": null,
      "height": null,
      "justify_content": null,
      "justify_items": null,
      "left": null,
      "margin": null,
      "max_height": null,
      "max_width": null,
      "min_height": null,
      "min_width": null,
      "object_fit": null,
      "object_position": null,
      "order": null,
      "overflow": null,
      "overflow_x": null,
      "overflow_y": null,
      "padding": null,
      "right": null,
      "top": null,
      "visibility": null,
      "width": null
     }
    },
    "41e7026570ad46ebaaf5c2f44e992b01": {
     "model_module": "@jupyter-widgets/controls",
     "model_module_version": "1.5.0",
     "model_name": "FloatProgressModel",
     "state": {
      "_dom_classes": [],
      "_model_module": "@jupyter-widgets/controls",
      "_model_module_version": "1.5.0",
      "_model_name": "FloatProgressModel",
      "_view_count": null,
      "_view_module": "@jupyter-widgets/controls",
      "_view_module_version": "1.5.0",
      "_view_name": "ProgressView",
      "bar_style": "success",
      "description": "",
      "description_tooltip": null,
      "layout": "IPY_MODEL_f692b29340854c4a80ba92cc032d8d89",
      "max": 1000,
      "min": 0,
      "orientation": "horizontal",
      "style": "IPY_MODEL_abc7b33e433441b0969d7c1d02548745",
      "value": 1000
     }
    },
    "46c2f2b98e2e4038a14d2accd29b185e": {
     "model_module": "@jupyter-widgets/controls",
     "model_module_version": "1.5.0",
     "model_name": "DescriptionStyleModel",
     "state": {
      "_model_module": "@jupyter-widgets/controls",
      "_model_module_version": "1.5.0",
      "_model_name": "DescriptionStyleModel",
      "_view_count": null,
      "_view_module": "@jupyter-widgets/base",
      "_view_module_version": "1.2.0",
      "_view_name": "StyleView",
      "description_width": ""
     }
    },
    "4775f16aaa9a4d5480a669843b5d7338": {
     "model_module": "@jupyter-widgets/controls",
     "model_module_version": "1.5.0",
     "model_name": "HBoxModel",
     "state": {
      "_dom_classes": [],
      "_model_module": "@jupyter-widgets/controls",
      "_model_module_version": "1.5.0",
      "_model_name": "HBoxModel",
      "_view_count": null,
      "_view_module": "@jupyter-widgets/controls",
      "_view_module_version": "1.5.0",
      "_view_name": "HBoxView",
      "box_style": "",
      "children": [
       "IPY_MODEL_06dcdeaa1f35400cab3c090adf0026d6",
       "IPY_MODEL_b9912742211c499fa6111fbfc4c0deb2",
       "IPY_MODEL_2db53b9d4c3d4062913a4d397b4e134d"
      ],
      "layout": "IPY_MODEL_f4a5f1d55a7e452a951e6d6830a01586"
     }
    },
    "5508784ffd244b56a82cdc38d31f8e22": {
     "model_module": "@jupyter-widgets/controls",
     "model_module_version": "1.5.0",
     "model_name": "HTMLModel",
     "state": {
      "_dom_classes": [],
      "_model_module": "@jupyter-widgets/controls",
      "_model_module_version": "1.5.0",
      "_model_name": "HTMLModel",
      "_view_count": null,
      "_view_module": "@jupyter-widgets/controls",
      "_view_module_version": "1.5.0",
      "_view_name": "HTMLView",
      "description": "",
      "description_tooltip": null,
      "layout": "IPY_MODEL_7a9361bf4db84293a30520de8beba16b",
      "placeholder": "​",
      "style": "IPY_MODEL_46c2f2b98e2e4038a14d2accd29b185e",
      "value": "100%"
     }
    },
    "59da2a8a6aa04437bfd7e926ec192288": {
     "model_module": "@jupyter-widgets/base",
     "model_module_version": "1.2.0",
     "model_name": "LayoutModel",
     "state": {
      "_model_module": "@jupyter-widgets/base",
      "_model_module_version": "1.2.0",
      "_model_name": "LayoutModel",
      "_view_count": null,
      "_view_module": "@jupyter-widgets/base",
      "_view_module_version": "1.2.0",
      "_view_name": "LayoutView",
      "align_content": null,
      "align_items": null,
      "align_self": null,
      "border": null,
      "bottom": null,
      "display": null,
      "flex": null,
      "flex_flow": null,
      "grid_area": null,
      "grid_auto_columns": null,
      "grid_auto_flow": null,
      "grid_auto_rows": null,
      "grid_column": null,
      "grid_gap": null,
      "grid_row": null,
      "grid_template_areas": null,
      "grid_template_columns": null,
      "grid_template_rows": null,
      "height": null,
      "justify_content": null,
      "justify_items": null,
      "left": null,
      "margin": null,
      "max_height": null,
      "max_width": null,
      "min_height": null,
      "min_width": null,
      "object_fit": null,
      "object_position": null,
      "order": null,
      "overflow": null,
      "overflow_x": null,
      "overflow_y": null,
      "padding": null,
      "right": null,
      "top": null,
      "visibility": null,
      "width": null
     }
    },
    "5a685e1d83cc4f7598b87f6482086053": {
     "model_module": "@jupyter-widgets/controls",
     "model_module_version": "1.5.0",
     "model_name": "HTMLModel",
     "state": {
      "_dom_classes": [],
      "_model_module": "@jupyter-widgets/controls",
      "_model_module_version": "1.5.0",
      "_model_name": "HTMLModel",
      "_view_count": null,
      "_view_module": "@jupyter-widgets/controls",
      "_view_module_version": "1.5.0",
      "_view_name": "HTMLView",
      "description": "",
      "description_tooltip": null,
      "layout": "IPY_MODEL_e99c35d1ffae4f1e8fb41f103359cce7",
      "placeholder": "​",
      "style": "IPY_MODEL_09f8876e522f4f198560475793e49064",
      "value": " 1000/1000 [01:40&lt;00:00, 10.16it/s]"
     }
    },
    "7a9361bf4db84293a30520de8beba16b": {
     "model_module": "@jupyter-widgets/base",
     "model_module_version": "1.2.0",
     "model_name": "LayoutModel",
     "state": {
      "_model_module": "@jupyter-widgets/base",
      "_model_module_version": "1.2.0",
      "_model_name": "LayoutModel",
      "_view_count": null,
      "_view_module": "@jupyter-widgets/base",
      "_view_module_version": "1.2.0",
      "_view_name": "LayoutView",
      "align_content": null,
      "align_items": null,
      "align_self": null,
      "border": null,
      "bottom": null,
      "display": null,
      "flex": null,
      "flex_flow": null,
      "grid_area": null,
      "grid_auto_columns": null,
      "grid_auto_flow": null,
      "grid_auto_rows": null,
      "grid_column": null,
      "grid_gap": null,
      "grid_row": null,
      "grid_template_areas": null,
      "grid_template_columns": null,
      "grid_template_rows": null,
      "height": null,
      "justify_content": null,
      "justify_items": null,
      "left": null,
      "margin": null,
      "max_height": null,
      "max_width": null,
      "min_height": null,
      "min_width": null,
      "object_fit": null,
      "object_position": null,
      "order": null,
      "overflow": null,
      "overflow_x": null,
      "overflow_y": null,
      "padding": null,
      "right": null,
      "top": null,
      "visibility": null,
      "width": null
     }
    },
    "7e40d9d2ec3a4be3925643a0d85cf17b": {
     "model_module": "@jupyter-widgets/controls",
     "model_module_version": "1.5.0",
     "model_name": "DescriptionStyleModel",
     "state": {
      "_model_module": "@jupyter-widgets/controls",
      "_model_module_version": "1.5.0",
      "_model_name": "DescriptionStyleModel",
      "_view_count": null,
      "_view_module": "@jupyter-widgets/base",
      "_view_module_version": "1.2.0",
      "_view_name": "StyleView",
      "description_width": ""
     }
    },
    "862535a14c7845708af7196697be4bfc": {
     "model_module": "@jupyter-widgets/base",
     "model_module_version": "1.2.0",
     "model_name": "LayoutModel",
     "state": {
      "_model_module": "@jupyter-widgets/base",
      "_model_module_version": "1.2.0",
      "_model_name": "LayoutModel",
      "_view_count": null,
      "_view_module": "@jupyter-widgets/base",
      "_view_module_version": "1.2.0",
      "_view_name": "LayoutView",
      "align_content": null,
      "align_items": null,
      "align_self": null,
      "border": null,
      "bottom": null,
      "display": null,
      "flex": null,
      "flex_flow": null,
      "grid_area": null,
      "grid_auto_columns": null,
      "grid_auto_flow": null,
      "grid_auto_rows": null,
      "grid_column": null,
      "grid_gap": null,
      "grid_row": null,
      "grid_template_areas": null,
      "grid_template_columns": null,
      "grid_template_rows": null,
      "height": null,
      "justify_content": null,
      "justify_items": null,
      "left": null,
      "margin": null,
      "max_height": null,
      "max_width": null,
      "min_height": null,
      "min_width": null,
      "object_fit": null,
      "object_position": null,
      "order": null,
      "overflow": null,
      "overflow_x": null,
      "overflow_y": null,
      "padding": null,
      "right": null,
      "top": null,
      "visibility": null,
      "width": null
     }
    },
    "8b291b586e4840cebce7764488caffdc": {
     "model_module": "@jupyter-widgets/controls",
     "model_module_version": "1.5.0",
     "model_name": "HTMLModel",
     "state": {
      "_dom_classes": [],
      "_model_module": "@jupyter-widgets/controls",
      "_model_module_version": "1.5.0",
      "_model_name": "HTMLModel",
      "_view_count": null,
      "_view_module": "@jupyter-widgets/controls",
      "_view_module_version": "1.5.0",
      "_view_name": "HTMLView",
      "description": "",
      "description_tooltip": null,
      "layout": "IPY_MODEL_e657b2e6072f4f319b98ab38a3c71657",
      "placeholder": "​",
      "style": "IPY_MODEL_03e8d7f389604575907bd0eb1f547270",
      "value": " 1000/1000 [01:40&lt;00:00,  7.54it/s]"
     }
    },
    "94e5ee27038548ac9c09fa6e81ace29f": {
     "model_module": "@jupyter-widgets/base",
     "model_module_version": "1.2.0",
     "model_name": "LayoutModel",
     "state": {
      "_model_module": "@jupyter-widgets/base",
      "_model_module_version": "1.2.0",
      "_model_name": "LayoutModel",
      "_view_count": null,
      "_view_module": "@jupyter-widgets/base",
      "_view_module_version": "1.2.0",
      "_view_name": "LayoutView",
      "align_content": null,
      "align_items": null,
      "align_self": null,
      "border": null,
      "bottom": null,
      "display": null,
      "flex": null,
      "flex_flow": null,
      "grid_area": null,
      "grid_auto_columns": null,
      "grid_auto_flow": null,
      "grid_auto_rows": null,
      "grid_column": null,
      "grid_gap": null,
      "grid_row": null,
      "grid_template_areas": null,
      "grid_template_columns": null,
      "grid_template_rows": null,
      "height": null,
      "justify_content": null,
      "justify_items": null,
      "left": null,
      "margin": null,
      "max_height": null,
      "max_width": null,
      "min_height": null,
      "min_width": null,
      "object_fit": null,
      "object_position": null,
      "order": null,
      "overflow": null,
      "overflow_x": null,
      "overflow_y": null,
      "padding": null,
      "right": null,
      "top": null,
      "visibility": null,
      "width": null
     }
    },
    "9c597a4ef7c242f89ae940e0586589a2": {
     "model_module": "@jupyter-widgets/controls",
     "model_module_version": "1.5.0",
     "model_name": "DescriptionStyleModel",
     "state": {
      "_model_module": "@jupyter-widgets/controls",
      "_model_module_version": "1.5.0",
      "_model_name": "DescriptionStyleModel",
      "_view_count": null,
      "_view_module": "@jupyter-widgets/base",
      "_view_module_version": "1.2.0",
      "_view_name": "StyleView",
      "description_width": ""
     }
    },
    "a698f1dd7a414593b4ce3363663c247e": {
     "model_module": "@jupyter-widgets/controls",
     "model_module_version": "1.5.0",
     "model_name": "ProgressStyleModel",
     "state": {
      "_model_module": "@jupyter-widgets/controls",
      "_model_module_version": "1.5.0",
      "_model_name": "ProgressStyleModel",
      "_view_count": null,
      "_view_module": "@jupyter-widgets/base",
      "_view_module_version": "1.2.0",
      "_view_name": "StyleView",
      "bar_color": null,
      "description_width": ""
     }
    },
    "a6eef2d4483c419687f9026f2142bae7": {
     "model_module": "@jupyter-widgets/base",
     "model_module_version": "1.2.0",
     "model_name": "LayoutModel",
     "state": {
      "_model_module": "@jupyter-widgets/base",
      "_model_module_version": "1.2.0",
      "_model_name": "LayoutModel",
      "_view_count": null,
      "_view_module": "@jupyter-widgets/base",
      "_view_module_version": "1.2.0",
      "_view_name": "LayoutView",
      "align_content": null,
      "align_items": null,
      "align_self": null,
      "border": null,
      "bottom": null,
      "display": null,
      "flex": null,
      "flex_flow": null,
      "grid_area": null,
      "grid_auto_columns": null,
      "grid_auto_flow": null,
      "grid_auto_rows": null,
      "grid_column": null,
      "grid_gap": null,
      "grid_row": null,
      "grid_template_areas": null,
      "grid_template_columns": null,
      "grid_template_rows": null,
      "height": null,
      "justify_content": null,
      "justify_items": null,
      "left": null,
      "margin": null,
      "max_height": null,
      "max_width": null,
      "min_height": null,
      "min_width": null,
      "object_fit": null,
      "object_position": null,
      "order": null,
      "overflow": null,
      "overflow_x": null,
      "overflow_y": null,
      "padding": null,
      "right": null,
      "top": null,
      "visibility": null,
      "width": null
     }
    },
    "abc7b33e433441b0969d7c1d02548745": {
     "model_module": "@jupyter-widgets/controls",
     "model_module_version": "1.5.0",
     "model_name": "ProgressStyleModel",
     "state": {
      "_model_module": "@jupyter-widgets/controls",
      "_model_module_version": "1.5.0",
      "_model_name": "ProgressStyleModel",
      "_view_count": null,
      "_view_module": "@jupyter-widgets/base",
      "_view_module_version": "1.2.0",
      "_view_name": "StyleView",
      "bar_color": null,
      "description_width": ""
     }
    },
    "b9912742211c499fa6111fbfc4c0deb2": {
     "model_module": "@jupyter-widgets/controls",
     "model_module_version": "1.5.0",
     "model_name": "FloatProgressModel",
     "state": {
      "_dom_classes": [],
      "_model_module": "@jupyter-widgets/controls",
      "_model_module_version": "1.5.0",
      "_model_name": "FloatProgressModel",
      "_view_count": null,
      "_view_module": "@jupyter-widgets/controls",
      "_view_module_version": "1.5.0",
      "_view_name": "ProgressView",
      "bar_style": "success",
      "description": "",
      "description_tooltip": null,
      "layout": "IPY_MODEL_a6eef2d4483c419687f9026f2142bae7",
      "max": 1000,
      "min": 0,
      "orientation": "horizontal",
      "style": "IPY_MODEL_e47ce104fff04431b2b04594a9fdb8a6",
      "value": 1000
     }
    },
    "c8077d89185e45deac983c43313021b1": {
     "model_module": "@jupyter-widgets/base",
     "model_module_version": "1.2.0",
     "model_name": "LayoutModel",
     "state": {
      "_model_module": "@jupyter-widgets/base",
      "_model_module_version": "1.2.0",
      "_model_name": "LayoutModel",
      "_view_count": null,
      "_view_module": "@jupyter-widgets/base",
      "_view_module_version": "1.2.0",
      "_view_name": "LayoutView",
      "align_content": null,
      "align_items": null,
      "align_self": null,
      "border": null,
      "bottom": null,
      "display": null,
      "flex": null,
      "flex_flow": null,
      "grid_area": null,
      "grid_auto_columns": null,
      "grid_auto_flow": null,
      "grid_auto_rows": null,
      "grid_column": null,
      "grid_gap": null,
      "grid_row": null,
      "grid_template_areas": null,
      "grid_template_columns": null,
      "grid_template_rows": null,
      "height": null,
      "justify_content": null,
      "justify_items": null,
      "left": null,
      "margin": null,
      "max_height": null,
      "max_width": null,
      "min_height": null,
      "min_width": null,
      "object_fit": null,
      "object_position": null,
      "order": null,
      "overflow": null,
      "overflow_x": null,
      "overflow_y": null,
      "padding": null,
      "right": null,
      "top": null,
      "visibility": null,
      "width": null
     }
    },
    "caf9d5ec799049818f80c80008ce91e0": {
     "model_module": "@jupyter-widgets/base",
     "model_module_version": "1.2.0",
     "model_name": "LayoutModel",
     "state": {
      "_model_module": "@jupyter-widgets/base",
      "_model_module_version": "1.2.0",
      "_model_name": "LayoutModel",
      "_view_count": null,
      "_view_module": "@jupyter-widgets/base",
      "_view_module_version": "1.2.0",
      "_view_name": "LayoutView",
      "align_content": null,
      "align_items": null,
      "align_self": null,
      "border": null,
      "bottom": null,
      "display": null,
      "flex": null,
      "flex_flow": null,
      "grid_area": null,
      "grid_auto_columns": null,
      "grid_auto_flow": null,
      "grid_auto_rows": null,
      "grid_column": null,
      "grid_gap": null,
      "grid_row": null,
      "grid_template_areas": null,
      "grid_template_columns": null,
      "grid_template_rows": null,
      "height": null,
      "justify_content": null,
      "justify_items": null,
      "left": null,
      "margin": null,
      "max_height": null,
      "max_width": null,
      "min_height": null,
      "min_width": null,
      "object_fit": null,
      "object_position": null,
      "order": null,
      "overflow": null,
      "overflow_x": null,
      "overflow_y": null,
      "padding": null,
      "right": null,
      "top": null,
      "visibility": null,
      "width": null
     }
    },
    "d00cd05c44184e9b9abcf67051787d77": {
     "model_module": "@jupyter-widgets/base",
     "model_module_version": "1.2.0",
     "model_name": "LayoutModel",
     "state": {
      "_model_module": "@jupyter-widgets/base",
      "_model_module_version": "1.2.0",
      "_model_name": "LayoutModel",
      "_view_count": null,
      "_view_module": "@jupyter-widgets/base",
      "_view_module_version": "1.2.0",
      "_view_name": "LayoutView",
      "align_content": null,
      "align_items": null,
      "align_self": null,
      "border": null,
      "bottom": null,
      "display": null,
      "flex": null,
      "flex_flow": null,
      "grid_area": null,
      "grid_auto_columns": null,
      "grid_auto_flow": null,
      "grid_auto_rows": null,
      "grid_column": null,
      "grid_gap": null,
      "grid_row": null,
      "grid_template_areas": null,
      "grid_template_columns": null,
      "grid_template_rows": null,
      "height": null,
      "justify_content": null,
      "justify_items": null,
      "left": null,
      "margin": null,
      "max_height": null,
      "max_width": null,
      "min_height": null,
      "min_width": null,
      "object_fit": null,
      "object_position": null,
      "order": null,
      "overflow": null,
      "overflow_x": null,
      "overflow_y": null,
      "padding": null,
      "right": null,
      "top": null,
      "visibility": null,
      "width": null
     }
    },
    "d4057919b4be401bb06c578a682a4e6a": {
     "model_module": "@jupyter-widgets/controls",
     "model_module_version": "1.5.0",
     "model_name": "HTMLModel",
     "state": {
      "_dom_classes": [],
      "_model_module": "@jupyter-widgets/controls",
      "_model_module_version": "1.5.0",
      "_model_name": "HTMLModel",
      "_view_count": null,
      "_view_module": "@jupyter-widgets/controls",
      "_view_module_version": "1.5.0",
      "_view_name": "HTMLView",
      "description": "",
      "description_tooltip": null,
      "layout": "IPY_MODEL_d00cd05c44184e9b9abcf67051787d77",
      "placeholder": "​",
      "style": "IPY_MODEL_3874e3602df3487f997188d458fbd8f5",
      "value": "100%"
     }
    },
    "dabf4f4695014bcc8226e67f716080ec": {
     "model_module": "@jupyter-widgets/controls",
     "model_module_version": "1.5.0",
     "model_name": "DescriptionStyleModel",
     "state": {
      "_model_module": "@jupyter-widgets/controls",
      "_model_module_version": "1.5.0",
      "_model_name": "DescriptionStyleModel",
      "_view_count": null,
      "_view_module": "@jupyter-widgets/base",
      "_view_module_version": "1.2.0",
      "_view_name": "StyleView",
      "description_width": ""
     }
    },
    "e0f7fec3977a400ba39610d414dcbe87": {
     "model_module": "@jupyter-widgets/controls",
     "model_module_version": "1.5.0",
     "model_name": "ProgressStyleModel",
     "state": {
      "_model_module": "@jupyter-widgets/controls",
      "_model_module_version": "1.5.0",
      "_model_name": "ProgressStyleModel",
      "_view_count": null,
      "_view_module": "@jupyter-widgets/base",
      "_view_module_version": "1.2.0",
      "_view_name": "StyleView",
      "bar_color": null,
      "description_width": ""
     }
    },
    "e47ce104fff04431b2b04594a9fdb8a6": {
     "model_module": "@jupyter-widgets/controls",
     "model_module_version": "1.5.0",
     "model_name": "ProgressStyleModel",
     "state": {
      "_model_module": "@jupyter-widgets/controls",
      "_model_module_version": "1.5.0",
      "_model_name": "ProgressStyleModel",
      "_view_count": null,
      "_view_module": "@jupyter-widgets/base",
      "_view_module_version": "1.2.0",
      "_view_name": "StyleView",
      "bar_color": null,
      "description_width": ""
     }
    },
    "e657b2e6072f4f319b98ab38a3c71657": {
     "model_module": "@jupyter-widgets/base",
     "model_module_version": "1.2.0",
     "model_name": "LayoutModel",
     "state": {
      "_model_module": "@jupyter-widgets/base",
      "_model_module_version": "1.2.0",
      "_model_name": "LayoutModel",
      "_view_count": null,
      "_view_module": "@jupyter-widgets/base",
      "_view_module_version": "1.2.0",
      "_view_name": "LayoutView",
      "align_content": null,
      "align_items": null,
      "align_self": null,
      "border": null,
      "bottom": null,
      "display": null,
      "flex": null,
      "flex_flow": null,
      "grid_area": null,
      "grid_auto_columns": null,
      "grid_auto_flow": null,
      "grid_auto_rows": null,
      "grid_column": null,
      "grid_gap": null,
      "grid_row": null,
      "grid_template_areas": null,
      "grid_template_columns": null,
      "grid_template_rows": null,
      "height": null,
      "justify_content": null,
      "justify_items": null,
      "left": null,
      "margin": null,
      "max_height": null,
      "max_width": null,
      "min_height": null,
      "min_width": null,
      "object_fit": null,
      "object_position": null,
      "order": null,
      "overflow": null,
      "overflow_x": null,
      "overflow_y": null,
      "padding": null,
      "right": null,
      "top": null,
      "visibility": null,
      "width": null
     }
    },
    "e99c35d1ffae4f1e8fb41f103359cce7": {
     "model_module": "@jupyter-widgets/base",
     "model_module_version": "1.2.0",
     "model_name": "LayoutModel",
     "state": {
      "_model_module": "@jupyter-widgets/base",
      "_model_module_version": "1.2.0",
      "_model_name": "LayoutModel",
      "_view_count": null,
      "_view_module": "@jupyter-widgets/base",
      "_view_module_version": "1.2.0",
      "_view_name": "LayoutView",
      "align_content": null,
      "align_items": null,
      "align_self": null,
      "border": null,
      "bottom": null,
      "display": null,
      "flex": null,
      "flex_flow": null,
      "grid_area": null,
      "grid_auto_columns": null,
      "grid_auto_flow": null,
      "grid_auto_rows": null,
      "grid_column": null,
      "grid_gap": null,
      "grid_row": null,
      "grid_template_areas": null,
      "grid_template_columns": null,
      "grid_template_rows": null,
      "height": null,
      "justify_content": null,
      "justify_items": null,
      "left": null,
      "margin": null,
      "max_height": null,
      "max_width": null,
      "min_height": null,
      "min_width": null,
      "object_fit": null,
      "object_position": null,
      "order": null,
      "overflow": null,
      "overflow_x": null,
      "overflow_y": null,
      "padding": null,
      "right": null,
      "top": null,
      "visibility": null,
      "width": null
     }
    },
    "ebfa3c9b58c843b1a9a0d8201ff540df": {
     "model_module": "@jupyter-widgets/controls",
     "model_module_version": "1.5.0",
     "model_name": "HTMLModel",
     "state": {
      "_dom_classes": [],
      "_model_module": "@jupyter-widgets/controls",
      "_model_module_version": "1.5.0",
      "_model_name": "HTMLModel",
      "_view_count": null,
      "_view_module": "@jupyter-widgets/controls",
      "_view_module_version": "1.5.0",
      "_view_name": "HTMLView",
      "description": "",
      "description_tooltip": null,
      "layout": "IPY_MODEL_06bfa530317e4c4291dcd34408e67eb4",
      "placeholder": "​",
      "style": "IPY_MODEL_7e40d9d2ec3a4be3925643a0d85cf17b",
      "value": " 1000/1000 [01:45&lt;00:00,  8.77it/s]"
     }
    },
    "f264fc0382634fcc8806908b3dd2b8af": {
     "model_module": "@jupyter-widgets/controls",
     "model_module_version": "1.5.0",
     "model_name": "HBoxModel",
     "state": {
      "_dom_classes": [],
      "_model_module": "@jupyter-widgets/controls",
      "_model_module_version": "1.5.0",
      "_model_name": "HBoxModel",
      "_view_count": null,
      "_view_module": "@jupyter-widgets/controls",
      "_view_module_version": "1.5.0",
      "_view_name": "HBoxView",
      "box_style": "",
      "children": [
       "IPY_MODEL_d4057919b4be401bb06c578a682a4e6a",
       "IPY_MODEL_0f7b0ea9889b4515af3a75a1b3d1d750",
       "IPY_MODEL_8b291b586e4840cebce7764488caffdc"
      ],
      "layout": "IPY_MODEL_caf9d5ec799049818f80c80008ce91e0"
     }
    },
    "f4a5f1d55a7e452a951e6d6830a01586": {
     "model_module": "@jupyter-widgets/base",
     "model_module_version": "1.2.0",
     "model_name": "LayoutModel",
     "state": {
      "_model_module": "@jupyter-widgets/base",
      "_model_module_version": "1.2.0",
      "_model_name": "LayoutModel",
      "_view_count": null,
      "_view_module": "@jupyter-widgets/base",
      "_view_module_version": "1.2.0",
      "_view_name": "LayoutView",
      "align_content": null,
      "align_items": null,
      "align_self": null,
      "border": null,
      "bottom": null,
      "display": null,
      "flex": null,
      "flex_flow": null,
      "grid_area": null,
      "grid_auto_columns": null,
      "grid_auto_flow": null,
      "grid_auto_rows": null,
      "grid_column": null,
      "grid_gap": null,
      "grid_row": null,
      "grid_template_areas": null,
      "grid_template_columns": null,
      "grid_template_rows": null,
      "height": null,
      "justify_content": null,
      "justify_items": null,
      "left": null,
      "margin": null,
      "max_height": null,
      "max_width": null,
      "min_height": null,
      "min_width": null,
      "object_fit": null,
      "object_position": null,
      "order": null,
      "overflow": null,
      "overflow_x": null,
      "overflow_y": null,
      "padding": null,
      "right": null,
      "top": null,
      "visibility": null,
      "width": null
     }
    },
    "f692b29340854c4a80ba92cc032d8d89": {
     "model_module": "@jupyter-widgets/base",
     "model_module_version": "1.2.0",
     "model_name": "LayoutModel",
     "state": {
      "_model_module": "@jupyter-widgets/base",
      "_model_module_version": "1.2.0",
      "_model_name": "LayoutModel",
      "_view_count": null,
      "_view_module": "@jupyter-widgets/base",
      "_view_module_version": "1.2.0",
      "_view_name": "LayoutView",
      "align_content": null,
      "align_items": null,
      "align_self": null,
      "border": null,
      "bottom": null,
      "display": null,
      "flex": null,
      "flex_flow": null,
      "grid_area": null,
      "grid_auto_columns": null,
      "grid_auto_flow": null,
      "grid_auto_rows": null,
      "grid_column": null,
      "grid_gap": null,
      "grid_row": null,
      "grid_template_areas": null,
      "grid_template_columns": null,
      "grid_template_rows": null,
      "height": null,
      "justify_content": null,
      "justify_items": null,
      "left": null,
      "margin": null,
      "max_height": null,
      "max_width": null,
      "min_height": null,
      "min_width": null,
      "object_fit": null,
      "object_position": null,
      "order": null,
      "overflow": null,
      "overflow_x": null,
      "overflow_y": null,
      "padding": null,
      "right": null,
      "top": null,
      "visibility": null,
      "width": null
     }
    },
    "f9f404f29bac410599619d44b775fb41": {
     "model_module": "@jupyter-widgets/base",
     "model_module_version": "1.2.0",
     "model_name": "LayoutModel",
     "state": {
      "_model_module": "@jupyter-widgets/base",
      "_model_module_version": "1.2.0",
      "_model_name": "LayoutModel",
      "_view_count": null,
      "_view_module": "@jupyter-widgets/base",
      "_view_module_version": "1.2.0",
      "_view_name": "LayoutView",
      "align_content": null,
      "align_items": null,
      "align_self": null,
      "border": null,
      "bottom": null,
      "display": null,
      "flex": null,
      "flex_flow": null,
      "grid_area": null,
      "grid_auto_columns": null,
      "grid_auto_flow": null,
      "grid_auto_rows": null,
      "grid_column": null,
      "grid_gap": null,
      "grid_row": null,
      "grid_template_areas": null,
      "grid_template_columns": null,
      "grid_template_rows": null,
      "height": null,
      "justify_content": null,
      "justify_items": null,
      "left": null,
      "margin": null,
      "max_height": null,
      "max_width": null,
      "min_height": null,
      "min_width": null,
      "object_fit": null,
      "object_position": null,
      "order": null,
      "overflow": null,
      "overflow_x": null,
      "overflow_y": null,
      "padding": null,
      "right": null,
      "top": null,
      "visibility": null,
      "width": null
     }
    }
   }
  }
 },
 "nbformat": 4,
 "nbformat_minor": 1
}
