{
 "cells": [
  {
   "cell_type": "code",
   "execution_count": 1,
   "metadata": {
    "colab": {
     "base_uri": "https://localhost:8080/"
    },
    "id": "QhTuMRktCX0F",
    "outputId": "035ec92b-0ca3-4253-ac5b-29b1ab59aab3"
   },
   "outputs": [
    {
     "name": "stdout",
     "output_type": "stream",
     "text": [
      "--2024-01-30 02:15:50--  https://jimut123.github.io/courses/vision/assets/sonar.csv\n",
      "Loaded CA certificate '/etc/ssl/certs/ca-certificates.crt'\n",
      "Resolving jimut123.github.io (jimut123.github.io)... 185.199.108.153, 185.199.111.153, 185.199.110.153, ...\n",
      "Connecting to jimut123.github.io (jimut123.github.io)|185.199.108.153|:443... connected.\n",
      "HTTP request sent, awaiting response... 200 OK\n",
      "Length: 87776 (86K) [text/csv]\n",
      "Saving to: ‘sonar.csv’\n",
      "\n",
      "sonar.csv           100%[===================>]  85.72K  --.-KB/s    in 0.01s   \n",
      "\n",
      "2024-01-30 02:15:51 (8.35 MB/s) - ‘sonar.csv’ saved [87776/87776]\n",
      "\n"
     ]
    }
   ],
   "source": [
    "! wget \"https://jimut123.github.io/courses/vision/assets/sonar.csv\""
   ]
  },
  {
   "cell_type": "code",
   "execution_count": 2,
   "metadata": {
    "id": "pYVQuxgK6bhc"
   },
   "outputs": [],
   "source": [
    "import numpy as np\n",
    "import pandas as pd"
   ]
  },
  {
   "cell_type": "code",
   "execution_count": 3,
   "metadata": {
    "id": "ss9_I8QaHVjX"
   },
   "outputs": [],
   "source": [
    "df = pd.read_csv('sonar.csv')"
   ]
  },
  {
   "cell_type": "code",
   "execution_count": 4,
   "metadata": {
    "colab": {
     "base_uri": "https://localhost:8080/"
    },
    "id": "ZgZEh41gHoQg",
    "outputId": "4041cd6b-279c-49a2-c5c2-56ecd09ae05f"
   },
   "outputs": [
    {
     "data": {
      "text/plain": [
       "(207, 61)"
      ]
     },
     "execution_count": 4,
     "metadata": {},
     "output_type": "execute_result"
    }
   ],
   "source": [
    "df.shape"
   ]
  },
  {
   "cell_type": "code",
   "execution_count": 5,
   "metadata": {
    "id": "b3FTvLccHqH3"
   },
   "outputs": [],
   "source": [
    "X = df.to_numpy()[:,:60]\n",
    "Y = df.to_numpy()[:,60:]"
   ]
  },
  {
   "cell_type": "code",
   "execution_count": 6,
   "metadata": {
    "colab": {
     "base_uri": "https://localhost:8080/"
    },
    "id": "e_0vFcaDIGzQ",
    "outputId": "b69f2f85-569e-451d-d96c-5802790943ac"
   },
   "outputs": [
    {
     "name": "stdout",
     "output_type": "stream",
     "text": [
      "(207, 60)\n",
      "(207, 1)\n"
     ]
    }
   ],
   "source": [
    "print(X.shape)\n",
    "print(Y.shape)"
   ]
  },
  {
   "cell_type": "code",
   "execution_count": 7,
   "metadata": {
    "id": "biMkyoWCcXAn"
   },
   "outputs": [],
   "source": [
    " def get__number_from_pal(str_num):\n",
    "    return np.fromiter((int(bit) for bit in str_num), dtype=np.int8)"
   ]
  },
  {
   "cell_type": "code",
   "execution_count": 8,
   "metadata": {
    "id": "X11xpB-UcW9w"
   },
   "outputs": [],
   "source": [
    "# Generating palindrome data\n",
    "\n",
    "def is_pal(X):\n",
    "    return X == X[::-1]\n",
    "\n",
    "def generate_10_bit_binary_numbers():\n",
    "    binary_numbers = []\n",
    "\n",
    "    for i in range(2**10):\n",
    "        binary_str = format(i, '010b')\n",
    "        binary_numbers.append(binary_str)\n",
    "\n",
    "    return binary_numbers\n",
    "\n",
    "\n",
    "# Generate and store all 10-bit binary numbers\n",
    "binary_numbers_list = generate_10_bit_binary_numbers()\n",
    "\n",
    "\n",
    "Y_VALUES = []\n",
    "X_VALUES = []\n",
    "\n",
    "# Print and/or use the generated binary numbers as needed\n",
    "for binary_number in binary_numbers_list:\n",
    "    #print(binary_number)\n",
    "    if is_pal(binary_number) == True:\n",
    "        X_VALUES.append(get__number_from_pal(binary_number))\n",
    "        Y_VALUES.append(1)\n",
    "    else:\n",
    "        X_VALUES.append(get__number_from_pal(binary_number))\n",
    "        Y_VALUES.append(0)"
   ]
  },
  {
   "cell_type": "code",
   "execution_count": 9,
   "metadata": {
    "colab": {
     "base_uri": "https://localhost:8080/"
    },
    "id": "5gsQCfGkc9g_",
    "outputId": "2887d026-8916-4791-8d7c-83fea77488b5"
   },
   "outputs": [
    {
     "name": "stdout",
     "output_type": "stream",
     "text": [
      "X =  (1024, 10)\n",
      "Y =  (1024,)\n"
     ]
    }
   ],
   "source": [
    "X = np.array(X_VALUES)\n",
    "Y = np.array(Y_VALUES)\n",
    "print(\"X = \",X.shape)\n",
    "print(\"Y = \",Y.shape)"
   ]
  },
  {
   "cell_type": "code",
   "execution_count": 10,
   "metadata": {
    "id": "FP2t7ehwccAR"
   },
   "outputs": [],
   "source": [
    "Y = Y.reshape(1024,1)"
   ]
  },
  {
   "cell_type": "code",
   "execution_count": 11,
   "metadata": {
    "colab": {
     "base_uri": "https://localhost:8080/"
    },
    "id": "AMqXR0Y3fLsw",
    "outputId": "1ee186a4-cb6b-4d44-cb20-e57fc9babab5"
   },
   "outputs": [
    {
     "data": {
      "text/plain": [
       "(1024, 1)"
      ]
     },
     "execution_count": 11,
     "metadata": {},
     "output_type": "execute_result"
    }
   ],
   "source": [
    "Y.shape"
   ]
  },
  {
   "cell_type": "code",
   "execution_count": null,
   "metadata": {
    "id": "sOXI6bhXcb9Q"
   },
   "outputs": [],
   "source": []
  },
  {
   "cell_type": "code",
   "execution_count": 12,
   "metadata": {
    "id": "xwiWlz516hZc"
   },
   "outputs": [],
   "source": [
    "# prompt: generate a blank class definition for a MLP in numpy\n",
    "\n",
    "class MLP:\n",
    "  def __init__(self, input, hidden):\n",
    "    self.w1 = np.random.rand(input, hidden)\n",
    "    # self.w1 = np.random.rand(10, hidden)\n",
    "    self.w2 = np.random.rand(hidden, 1)\n",
    "\n",
    "    self.hidden = hidden\n",
    "    self.input = input\n",
    "\n",
    "  def relu(self, x):\n",
    "    return np.maximum(x,0)\n",
    "\n",
    "  def relu_prime(self,x):\n",
    "    if x>0:\n",
    "      return 1\n",
    "    else:\n",
    "      return 0\n",
    "\n",
    "  def sigmoid(self,x):\n",
    "    # return 1 / (1 + np.exp(-x))\n",
    "    return np.exp(-np.logaddexp(0, -x))\n",
    "\n",
    "\n",
    "  def sigmoid_prime(self,x):\n",
    "    z = self.sigmoid(x)\n",
    "    return z*(1-z)\n",
    "\n",
    "  def forward(self, x):\n",
    "    # forward\n",
    "    z1 = self.w1.T @ x\n",
    "    a1 = self.relu(z1)\n",
    "\n",
    "    z2 = self.w2.T @ a1\n",
    "    a2 = self.sigmoid(z2)\n",
    "\n",
    "    return a2\n",
    "\n",
    "  def forward_backward(self, x, y, lr):\n",
    "\n",
    "    # forward\n",
    "    z1 = self.w1.T @ x\n",
    "    a1 = self.relu(z1)\n",
    "\n",
    "    z2 = self.w2.T @ a1\n",
    "    a2 = self.sigmoid(z2)\n",
    "\n",
    "    # backprop\n",
    "    self.dw1 = np.zeros_like(self.w1)\n",
    "    self.dw2 = np.zeros_like(self.w2)\n",
    "\n",
    "    L = -y*np.log(a2 + 1e-6) - (1-y)*np.log(1-a2 + 1e-6)\n",
    "    # da2 = -y/a2 + (1-y)/(1-a2)\n",
    "\n",
    "    for i in range(self.hidden):\n",
    "      self.dw2[i,0] = (-y[0,0]*(1-a2[0,0]) + (1- y[0,0])*a2[0,0]) * a1[i,0]\n",
    "      #self.dw2[i,0] = da2[0,0] * self.sigmoid_prime(z2[0,0]) * a1[i,0]\n",
    "\n",
    "    for i in range(self.input):\n",
    "      for j in range(self.hidden):\n",
    "        # self.dw1[i,0] = da2[0,0] * self.sigmoid_prime(z2[0,0]) * self.w2[j,0] * self.relu_prime(z1[j,0]) * x[i,0]\n",
    "        self.dw1[i,j] = (-y[0,0]*(1-a2[0,0]) + (1- y[0,0])*a2[0,0])  * self.w2[j,0] * self.relu_prime(z1[j,0]) * x[i,0]\n",
    "\n",
    "    # update\n",
    "    self.w1 = self.w1 - lr*self.dw1\n",
    "    self.w2 = self.w2 - lr*self.dw2\n",
    "\n",
    "    # print (np.linalg.norm(self.dw1))\n",
    "\n",
    "    return a2 , L\n"
   ]
  },
  {
   "cell_type": "code",
   "execution_count": 13,
   "metadata": {
    "id": "tqP_ehkYI8VQ"
   },
   "outputs": [],
   "source": [
    "net = MLP(10, 16)"
   ]
  },
  {
   "cell_type": "code",
   "execution_count": 14,
   "metadata": {
    "id": "04C8wiWYETrR"
   },
   "outputs": [],
   "source": [
    "# eval\n",
    "def inference():\n",
    "  print ('inference')\n",
    "  correct = 0\n",
    "\n",
    "  for i in range(len(X)):\n",
    "    x = X[i:i+1,:].T\n",
    "    y = Y[i,0]\n",
    "\n",
    "    y_pred = net.forward(x)\n",
    "\n",
    "    y_pred = y_pred[0,0]\n",
    "\n",
    "    # print (y_pred)\n",
    "\n",
    "    if y_pred < 0.5:\n",
    "      y_pred = 0\n",
    "    else:\n",
    "      y_pred = 1\n",
    "\n",
    "    if (y_pred == y):\n",
    "      correct +=1\n",
    "\n",
    "  print (correct)"
   ]
  },
  {
   "cell_type": "code",
   "execution_count": 17,
   "metadata": {
    "colab": {
     "base_uri": "https://localhost:8080/"
    },
    "id": "P2BtKRooINiV",
    "outputId": "ed89948c-65f6-4aad-faef-b7d221ec0240"
   },
   "outputs": [
    {
     "name": "stdout",
     "output_type": "stream",
     "text": [
      "0  loss:  [[7.88910273]]\n",
      "====\n",
      "inference\n",
      "1024\n",
      "1  loss:  [[7.9273436]]\n",
      "====\n",
      "2  loss:  [[7.76375454]]\n",
      "====\n",
      "3  loss:  [[7.62785961]]\n",
      "====\n",
      "4  loss:  [[7.48014795]]\n",
      "====\n",
      "5  loss:  [[7.36396099]]\n",
      "====\n",
      "6  loss:  [[7.21812797]]\n",
      "====\n",
      "7  loss:  [[7.11273735]]\n",
      "====\n",
      "8  loss:  [[6.98889939]]\n",
      "====\n",
      "9  loss:  [[6.87625184]]\n",
      "====\n",
      "10  loss:  [[6.76372958]]\n",
      "====\n",
      "11  loss:  [[6.6587437]]\n",
      "====\n",
      "12  loss:  [[6.55043762]]\n",
      "====\n",
      "13  loss:  [[6.45460097]]\n",
      "====\n",
      "14  loss:  [[6.35163658]]\n",
      "====\n",
      "15  loss:  [[6.2590139]]\n",
      "====\n",
      "16  loss:  [[6.17569379]]\n",
      "====\n",
      "17  loss:  [[6.0890502]]\n",
      "====\n",
      "18  loss:  [[5.99734602]]\n",
      "====\n"
     ]
    },
    {
     "ename": "KeyboardInterrupt",
     "evalue": "",
     "output_type": "error",
     "traceback": [
      "\u001b[0;31m---------------------------------------------------------------------------\u001b[0m",
      "\u001b[0;31mKeyboardInterrupt\u001b[0m                         Traceback (most recent call last)",
      "Cell \u001b[0;32mIn[17], line 12\u001b[0m\n\u001b[1;32m      8\u001b[0m     y \u001b[38;5;241m=\u001b[39m Y[i:i\u001b[38;5;241m+\u001b[39m\u001b[38;5;241m1\u001b[39m,:]\n\u001b[1;32m     10\u001b[0m \u001b[38;5;66;03m#     print(\"Shape of X = \",x.shape,\" shape of y = \",y.shape)\u001b[39;00m\n\u001b[0;32m---> 12\u001b[0m     y_pred, L \u001b[38;5;241m=\u001b[39m net\u001b[38;5;241m.\u001b[39mforward_backward(x,y,\u001b[38;5;241m1e-2\u001b[39m)\n\u001b[1;32m     14\u001b[0m     \u001b[38;5;66;03m# print(y_pred, '- gt:', y)\u001b[39;00m\n\u001b[1;32m     15\u001b[0m     \u001b[38;5;66;03m# print(y)\u001b[39;00m\n\u001b[1;32m     16\u001b[0m     \u001b[38;5;66;03m# print (L)\u001b[39;00m\n\u001b[1;32m     17\u001b[0m     \u001b[38;5;66;03m# print(\"=====\")\u001b[39;00m\n\u001b[1;32m     19\u001b[0m     total \u001b[38;5;241m+\u001b[39m\u001b[38;5;241m=\u001b[39m L\n",
      "Cell \u001b[0;32mIn[12], line 63\u001b[0m, in \u001b[0;36mMLP.forward_backward\u001b[0;34m(self, x, y, lr)\u001b[0m\n\u001b[1;32m     60\u001b[0m \u001b[38;5;28;01mfor\u001b[39;00m i \u001b[38;5;129;01min\u001b[39;00m \u001b[38;5;28mrange\u001b[39m(\u001b[38;5;28mself\u001b[39m\u001b[38;5;241m.\u001b[39minput):\n\u001b[1;32m     61\u001b[0m   \u001b[38;5;28;01mfor\u001b[39;00m j \u001b[38;5;129;01min\u001b[39;00m \u001b[38;5;28mrange\u001b[39m(\u001b[38;5;28mself\u001b[39m\u001b[38;5;241m.\u001b[39mhidden):\n\u001b[1;32m     62\u001b[0m     \u001b[38;5;66;03m# self.dw1[i,0] = da2[0,0] * self.sigmoid_prime(z2[0,0]) * self.w2[j,0] * self.relu_prime(z1[j,0]) * x[i,0]\u001b[39;00m\n\u001b[0;32m---> 63\u001b[0m     \u001b[38;5;28mself\u001b[39m\u001b[38;5;241m.\u001b[39mdw1[i,j] \u001b[38;5;241m=\u001b[39m (\u001b[38;5;241m-\u001b[39my[\u001b[38;5;241m0\u001b[39m,\u001b[38;5;241m0\u001b[39m]\u001b[38;5;241m*\u001b[39m(\u001b[38;5;241m1\u001b[39m\u001b[38;5;241m-\u001b[39ma2[\u001b[38;5;241m0\u001b[39m,\u001b[38;5;241m0\u001b[39m]) \u001b[38;5;241m+\u001b[39m (\u001b[38;5;241m1\u001b[39m\u001b[38;5;241m-\u001b[39m y[\u001b[38;5;241m0\u001b[39m,\u001b[38;5;241m0\u001b[39m])\u001b[38;5;241m*\u001b[39ma2[\u001b[38;5;241m0\u001b[39m,\u001b[38;5;241m0\u001b[39m])  \u001b[38;5;241m*\u001b[39m \u001b[38;5;28mself\u001b[39m\u001b[38;5;241m.\u001b[39mw2[j,\u001b[38;5;241m0\u001b[39m] \u001b[38;5;241m*\u001b[39m \u001b[38;5;28mself\u001b[39m\u001b[38;5;241m.\u001b[39mrelu_prime(z1[j,\u001b[38;5;241m0\u001b[39m]) \u001b[38;5;241m*\u001b[39m x[i,\u001b[38;5;241m0\u001b[39m]\n\u001b[1;32m     65\u001b[0m \u001b[38;5;66;03m# update\u001b[39;00m\n\u001b[1;32m     66\u001b[0m \u001b[38;5;28mself\u001b[39m\u001b[38;5;241m.\u001b[39mw1 \u001b[38;5;241m=\u001b[39m \u001b[38;5;28mself\u001b[39m\u001b[38;5;241m.\u001b[39mw1 \u001b[38;5;241m-\u001b[39m lr\u001b[38;5;241m*\u001b[39m\u001b[38;5;28mself\u001b[39m\u001b[38;5;241m.\u001b[39mdw1\n",
      "Cell \u001b[0;32mIn[12], line 15\u001b[0m, in \u001b[0;36mMLP.relu_prime\u001b[0;34m(self, x)\u001b[0m\n\u001b[1;32m     12\u001b[0m \u001b[38;5;28;01mdef\u001b[39;00m \u001b[38;5;21mrelu\u001b[39m(\u001b[38;5;28mself\u001b[39m, x):\n\u001b[1;32m     13\u001b[0m   \u001b[38;5;28;01mreturn\u001b[39;00m np\u001b[38;5;241m.\u001b[39mmaximum(x,\u001b[38;5;241m0\u001b[39m)\n\u001b[0;32m---> 15\u001b[0m \u001b[38;5;28;01mdef\u001b[39;00m \u001b[38;5;21mrelu_prime\u001b[39m(\u001b[38;5;28mself\u001b[39m,x):\n\u001b[1;32m     16\u001b[0m   \u001b[38;5;28;01mif\u001b[39;00m x\u001b[38;5;241m>\u001b[39m\u001b[38;5;241m0\u001b[39m:\n\u001b[1;32m     17\u001b[0m     \u001b[38;5;28;01mreturn\u001b[39;00m \u001b[38;5;241m1\u001b[39m\n",
      "\u001b[0;31mKeyboardInterrupt\u001b[0m: "
     ]
    }
   ],
   "source": [
    "for epoch in range(1000):\n",
    "\n",
    "  total = 0\n",
    "\n",
    "  for i in range(len(X)):\n",
    "    x = X[i:i+1,:].T\n",
    "    # y = Y[i:i+1,:]\n",
    "    y = Y[i:i+1,:]\n",
    "    \n",
    "#     print(\"Shape of X = \",x.shape,\" shape of y = \",y.shape)\n",
    "\n",
    "    y_pred, L = net.forward_backward(x,y,1e-2)\n",
    "\n",
    "    # print(y_pred, '- gt:', y)\n",
    "    # print(y)\n",
    "    # print (L)\n",
    "    # print(\"=====\")\n",
    "\n",
    "    total += L\n",
    "\n",
    "  print (epoch , ' loss: ', total)\n",
    "  print (\"====\")\n",
    "\n",
    "  if epoch%20==0:\n",
    "    inference()\n"
   ]
  },
  {
   "cell_type": "code",
   "execution_count": null,
   "metadata": {
    "id": "FyO48unSgGqu"
   },
   "outputs": [],
   "source": [
    "y_pred_list = []\n",
    "\n",
    "for i in range(len(X)):\n",
    "    x = X[i:i+1,:].T\n",
    "    y = Y[i,0]\n",
    "\n",
    "    y_pred = net.forward(x)\n",
    "\n",
    "    y_pred = y_pred[0,0]\n",
    "\n",
    "    y_pred_list.append(y_pred)"
   ]
  },
  {
   "cell_type": "code",
   "execution_count": null,
   "metadata": {
    "colab": {
     "base_uri": "https://localhost:8080/"
    },
    "id": "c1RwneO0gbbF",
    "outputId": "86bb0f11-904f-43fc-edf8-4ba430482b8f"
   },
   "outputs": [
    {
     "data": {
      "text/plain": [
       "0.5"
      ]
     },
     "execution_count": 69,
     "metadata": {},
     "output_type": "execute_result"
    }
   ],
   "source": [
    "from sklearn.metrics import roc_auc_score\n",
    "roc_auc_score(Y, y_pred_list)"
   ]
  },
  {
   "cell_type": "code",
   "execution_count": null,
   "metadata": {
    "id": "zKbvLfraNca1"
   },
   "outputs": [],
   "source": [
    "# 100  loss:  [[79.19130256]]  - using randn as weights\n",
    "# 100  loss:  [[26.3380848]] - using rand as weights"
   ]
  },
  {
   "cell_type": "code",
   "execution_count": null,
   "metadata": {
    "colab": {
     "base_uri": "https://localhost:8080/"
    },
    "id": "03mljwXsZDsM",
    "outputId": "aae60f8c-53ee-4613-b33d-2b10c201b08e"
   },
   "outputs": [
    {
     "data": {
      "text/plain": [
       "111"
      ]
     },
     "execution_count": 13,
     "metadata": {},
     "output_type": "execute_result"
    }
   ],
   "source": [
    "np.sum(Y==1)"
   ]
  },
  {
   "cell_type": "code",
   "execution_count": null,
   "metadata": {
    "colab": {
     "base_uri": "https://localhost:8080/"
    },
    "id": "IdbPuR0bZtQX",
    "outputId": "e5bd8be1-ad75-4abb-db88-758136045e10"
   },
   "outputs": [
    {
     "data": {
      "text/plain": [
       "96"
      ]
     },
     "execution_count": 14,
     "metadata": {},
     "output_type": "execute_result"
    }
   ],
   "source": [
    "np.sum(Y==0)"
   ]
  },
  {
   "cell_type": "code",
   "execution_count": null,
   "metadata": {
    "colab": {
     "base_uri": "https://localhost:8080/"
    },
    "id": "NBYCXJgjOzEL",
    "outputId": "098724ed-72ad-40ee-d50b-c433919af772"
   },
   "outputs": [
    {
     "data": {
      "text/plain": [
       "207"
      ]
     },
     "execution_count": 15,
     "metadata": {},
     "output_type": "execute_result"
    }
   ],
   "source": [
    "len(X)\n",
    "# 96 correct beginning"
   ]
  },
  {
   "cell_type": "code",
   "execution_count": null,
   "metadata": {
    "colab": {
     "base_uri": "https://localhost:8080/"
    },
    "id": "Kwe8nII5EKl5",
    "outputId": "b46910aa-c04e-4465-d97c-7a4683eea858"
   },
   "outputs": [
    {
     "name": "stderr",
     "output_type": "stream",
     "text": [
      "/usr/local/lib/python3.10/dist-packages/sklearn/neural_network/_multilayer_perceptron.py:1098: DataConversionWarning: A column-vector y was passed when a 1d array was expected. Please change the shape of y to (n_samples, ), for example using ravel().\n",
      "  y = column_or_1d(y, warn=True)\n"
     ]
    },
    {
     "name": "stdout",
     "output_type": "stream",
     "text": [
      "Accuracy: 1.0\n",
      "Trained model parameters:\n",
      "Input layer size: 10\n",
      "Output layer size: 1\n"
     ]
    },
    {
     "name": "stderr",
     "output_type": "stream",
     "text": [
      "/usr/local/lib/python3.10/dist-packages/sklearn/neural_network/_multilayer_perceptron.py:686: ConvergenceWarning: Stochastic Optimizer: Maximum iterations (1000) reached and the optimization hasn't converged yet.\n",
      "  warnings.warn(\n"
     ]
    }
   ],
   "source": [
    "from sklearn.neural_network import MLPClassifier\n",
    "from sklearn.model_selection import train_test_split\n",
    "from sklearn.metrics import accuracy_score\n",
    "\n",
    "\n",
    "# Create the MLP model\n",
    "mlp_model = MLPClassifier(hidden_layer_sizes=(16,), max_iter=1000, random_state=42, solver='sgd', learning_rate_init = 1e-2)\n",
    "\n",
    "# Train the model\n",
    "mlp_model.fit(X, Y)\n",
    "\n",
    "# Make predictions on the test set\n",
    "y_pred = mlp_model.predict(X)\n",
    "\n",
    "# Calculate accuracy\n",
    "accuracy = accuracy_score(Y, y_pred)\n",
    "print(f\"Accuracy: {accuracy}\")\n",
    "\n",
    "# You can also access the trained model parameters\n",
    "print(\"Trained model parameters:\")\n",
    "print(\"Input layer size:\", mlp_model.n_features_in_)\n",
    "print(\"Output layer size:\", mlp_model.n_outputs_)\n",
    "# print(\"Hidden layer sizes:\", mlp_model.hidden_layer_sizes_)\n"
   ]
  },
  {
   "cell_type": "code",
   "execution_count": null,
   "metadata": {
    "colab": {
     "base_uri": "https://localhost:8080/"
    },
    "id": "eF9vHL74kaBk",
    "outputId": "787b8f77-77e9-4818-b5b2-afdbf916521d"
   },
   "outputs": [
    {
     "data": {
      "text/plain": [
       "0.96875"
      ]
     },
     "execution_count": 71,
     "metadata": {},
     "output_type": "execute_result"
    }
   ],
   "source": [
    "992/1024"
   ]
  },
  {
   "cell_type": "code",
   "execution_count": null,
   "metadata": {
    "id": "UkdYjLmdkdfQ"
   },
   "outputs": [],
   "source": []
  }
 ],
 "metadata": {
  "colab": {
   "provenance": []
  },
  "kernelspec": {
   "display_name": "Python 3 (ipykernel)",
   "language": "python",
   "name": "python3"
  },
  "language_info": {
   "codemirror_mode": {
    "name": "ipython",
    "version": 3
   },
   "file_extension": ".py",
   "mimetype": "text/x-python",
   "name": "python",
   "nbconvert_exporter": "python",
   "pygments_lexer": "ipython3",
   "version": "3.11.3"
  }
 },
 "nbformat": 4,
 "nbformat_minor": 1
}
