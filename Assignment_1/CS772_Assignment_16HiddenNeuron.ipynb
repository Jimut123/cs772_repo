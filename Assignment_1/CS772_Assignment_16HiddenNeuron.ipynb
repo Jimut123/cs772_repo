{
  "cells": [
    {
      "cell_type": "markdown",
      "source": [
        "## Necessary Imports"
      ],
      "metadata": {
        "id": "MImSzvXVmG2M"
      }
    },
    {
      "cell_type": "code",
      "execution_count": null,
      "metadata": {
        "id": "pYVQuxgK6bhc"
      },
      "outputs": [],
      "source": [
        "import matplotlib\n",
        "import numpy as np\n",
        "import pandas as pd\n",
        "import matplotlib.pyplot as plt\n",
        "import random\n",
        "from tqdm import tqdm_notebook\n",
        "import pickle\n",
        "import copy"
      ]
    },
    {
      "cell_type": "markdown",
      "source": [
        "##### To convert a string bit sequence to palindrome number"
      ],
      "metadata": {
        "id": "mxGno4QdmKE5"
      }
    },
    {
      "cell_type": "code",
      "source": [
        " def get_number_from_pal(str_num):\n",
        "    return np.fromiter((int(bit) for bit in str_num), dtype=np.int8)"
      ],
      "metadata": {
        "id": "biMkyoWCcXAn"
      },
      "execution_count": null,
      "outputs": []
    },
    {
      "cell_type": "markdown",
      "source": [
        "#### Creating the dataset for training using 4-fold cross validation"
      ],
      "metadata": {
        "id": "yvLPUCozmVHs"
      }
    },
    {
      "cell_type": "code",
      "source": [
        "# Generating palindrome data\n",
        "\n",
        "def is_pal(X):\n",
        "    return X == X[::-1]\n",
        "\n",
        "def generate_10_bit_binary_numbers():\n",
        "    binary_numbers = []\n",
        "\n",
        "    for i in range(2**10):\n",
        "        binary_str = format(i, '010b')\n",
        "        binary_numbers.append(binary_str)\n",
        "\n",
        "    return binary_numbers\n",
        "\n",
        "\n",
        "# Generate and store all 10-bit binary numbers\n",
        "binary_numbers_list = generate_10_bit_binary_numbers()\n",
        "\n",
        "\n",
        "Y_VALUES = []\n",
        "X_VALUES = []\n",
        "\n",
        "# Print and/or use the generated binary numbers as needed\n",
        "for binary_number in binary_numbers_list:\n",
        "    #print(binary_number)\n",
        "    if is_pal(binary_number) == True:\n",
        "        X_VALUES.append(get_number_from_pal(binary_number))\n",
        "        Y_VALUES.append(1)\n",
        "    else:\n",
        "        X_VALUES.append(get_number_from_pal(binary_number))\n",
        "        Y_VALUES.append(0)"
      ],
      "metadata": {
        "id": "X11xpB-UcW9w"
      },
      "execution_count": null,
      "outputs": []
    },
    {
      "cell_type": "markdown",
      "source": [
        "#### Checking the shape of the dataset created"
      ],
      "metadata": {
        "id": "Ff-PNdcqmay6"
      }
    },
    {
      "cell_type": "code",
      "source": [
        "X = np.array(X_VALUES)\n",
        "Y = np.array(Y_VALUES)\n",
        "print(\"X = \",X.shape)\n",
        "print(\"Y = \",Y.shape)\n"
      ],
      "metadata": {
        "colab": {
          "base_uri": "https://localhost:8080/"
        },
        "id": "HtsbfgHd6sIG",
        "outputId": "2d00e37a-8368-40aa-f1dd-babc9c64d57f"
      },
      "execution_count": null,
      "outputs": [
        {
          "output_type": "stream",
          "name": "stdout",
          "text": [
            "X =  (1024, 10)\n",
            "Y =  (1024,)\n"
          ]
        }
      ]
    },
    {
      "cell_type": "code",
      "source": [
        "np.sum(Y==1)"
      ],
      "metadata": {
        "colab": {
          "base_uri": "https://localhost:8080/"
        },
        "id": "8fovxmevjzKu",
        "outputId": "9059bdff-6fed-4cd5-d065-b548bdf2b491"
      },
      "execution_count": null,
      "outputs": [
        {
          "output_type": "execute_result",
          "data": {
            "text/plain": [
              "32"
            ]
          },
          "metadata": {},
          "execution_count": 7
        }
      ]
    },
    {
      "cell_type": "markdown",
      "source": [
        "### Define the Precision, Recall and F1 score metrics"
      ],
      "metadata": {
        "id": "ccjRcgT3mezj"
      }
    },
    {
      "cell_type": "code",
      "source": [
        "def precision(result, reference):\n",
        "    result = np.array(result)\n",
        "    reference = np.array(reference)\n",
        "    result = np.atleast_1d(result.astype(np.bool_))\n",
        "    reference = np.atleast_1d(reference.astype(np.bool_))\n",
        "\n",
        "    tp = np.count_nonzero(result & reference)\n",
        "    fp = np.count_nonzero(result & ~reference)\n",
        "\n",
        "    try:\n",
        "        precision = tp / float(tp + fp)\n",
        "    except ZeroDivisionError:\n",
        "        precision = 0.0\n",
        "\n",
        "    return precision"
      ],
      "metadata": {
        "id": "oxQNcwDUDBLP"
      },
      "execution_count": null,
      "outputs": []
    },
    {
      "cell_type": "code",
      "source": [
        "def recall(result, reference):\n",
        "    result = np.array(result)\n",
        "    reference = np.array(reference)\n",
        "    result = np.atleast_1d(result.astype(np.bool_))\n",
        "    reference = np.atleast_1d(reference.astype(np.bool_))\n",
        "\n",
        "    tp = np.count_nonzero(result & reference)\n",
        "    fn = np.count_nonzero(~result & reference)\n",
        "\n",
        "    try:\n",
        "        recall = tp / float(tp + fn)\n",
        "    except ZeroDivisionError:\n",
        "        recall = 0.0\n",
        "\n",
        "    return recall"
      ],
      "metadata": {
        "id": "PIBloOZ-wPux"
      },
      "execution_count": null,
      "outputs": []
    },
    {
      "cell_type": "code",
      "source": [
        "def f1_score(p, r):\n",
        "  return (2*p*r)/(p+r)"
      ],
      "metadata": {
        "id": "aXD0NEIlAjqT"
      },
      "execution_count": null,
      "outputs": []
    },
    {
      "cell_type": "markdown",
      "source": [
        "#### Multi Layer Perceptron using input, hidden and output layer"
      ],
      "metadata": {
        "id": "y6ylz0Aqmmx5"
      }
    },
    {
      "cell_type": "code",
      "execution_count": null,
      "metadata": {
        "id": "xwiWlz516hZc"
      },
      "outputs": [],
      "source": [
        "\n",
        "class MLP:\n",
        "  def __init__(self, input, hidden):\n",
        "    self.w1 = np.random.rand(input, hidden)\n",
        "    self.w2 = np.random.rand(hidden, 1)\n",
        "\n",
        "    # self.w1 = np.random.uniform(low =-1, high =1, size=(input, hidden))\n",
        "    # self.w2 = np.random.uniform(low =-1, high =1, size= (hidden, 1))\n",
        "\n",
        "    # self.b1 = np.random.rand(hidden,1)\n",
        "    # self.b2 = np.random.rand(1,1)\n",
        "\n",
        "    self.velocity_w1 = np.zeros_like(self.w1)\n",
        "    self.velocity_w2 = np.zeros_like(self.w2)\n",
        "\n",
        "    # self.velocity_b1 = np.zeros_like(self.b1)\n",
        "    # self.velocity_b2 = np.zeros_like(self.b2)\n",
        "\n",
        "    self.momentum = 0.95\n",
        "\n",
        "    self.hidden = hidden\n",
        "    self.input = input\n",
        "\n",
        "\n",
        "  def relu(self, x):\n",
        "    return np.maximum(x,0)\n",
        "\n",
        "  def relu_prime(self,x):\n",
        "    if x>0:\n",
        "      return 1\n",
        "    else:\n",
        "      return 0\n",
        "\n",
        "  def sigmoid(self,x):\n",
        "    # return 1 / (1 + np.exp(-x))\n",
        "    return np.exp(-np.logaddexp(0, -x))\n",
        "\n",
        "\n",
        "  def sigmoid_prime(self,x):\n",
        "    z = self.sigmoid(x)\n",
        "    return z*(1-z)\n",
        "\n",
        "  def forward(self, x):\n",
        "    # forward\n",
        "    z1 = self.w1.T @ x #+ self.b1\n",
        "    a1 = self.relu(z1)\n",
        "\n",
        "    z2 = self.w2.T @ a1 #+ self.b2\n",
        "    a2 = self.sigmoid(z2)\n",
        "\n",
        "    return a2\n",
        "\n",
        "  def forward_backward(self, x, y, lr):\n",
        "\n",
        "    # forward\n",
        "    z1 = self.w1.T @ x #+ self.b1\n",
        "    a1 = self.relu(z1)\n",
        "\n",
        "    z2 = self.w2.T @ a1 #+ self.b2\n",
        "    a2 = self.sigmoid(z2)\n",
        "\n",
        "    # backprop\n",
        "    self.dw1 = np.zeros_like(self.w1)\n",
        "    self.dw2 = np.zeros_like(self.w2)\n",
        "\n",
        "    # self.db1 = np.zeros_like(self.b1)\n",
        "    # self.db2 = np.zeros_like(self.b2)\n",
        "\n",
        "    L = -y*np.log(a2 + 1e-6) - (1-y)*np.log(1-a2 + 1e-6)\n",
        "    # da2 = -y/a2 + (1-y)/(1-a2)\n",
        "\n",
        "    for i in range(self.hidden):\n",
        "      # self.dw2[i,0] = (-y[0,0]*(1-a2[0,0]) + (1- y[0,0])*a2[0,0]) * a1[i,0]\n",
        "      self.dw2[i,0] = (a2[0,0]- y[0,0]) * a1[i,0]\n",
        "\n",
        "\n",
        "    # self.db2[0,0] = (-y[0,0]*(1-a2[0,0]) + (1- y[0,0])*a2[0,0])\n",
        "\n",
        "      #self.dw2[i,0] = da2[0,0] * self.sigmoid_prime(z2[0,0]) * a1[i,0]\n",
        "\n",
        "    for i in range(self.input):\n",
        "      for j in range(self.hidden):\n",
        "        # self.dw1[i,0] = da2[0,0] * self.sigmoid_prime(z2[0,0]) * self.w2[j,0] * self.relu_prime(z1[j,0]) * x[i,0]\n",
        "        # self.dw1[i,j] = (-y[0,0]*(1-a2[0,0]) + (1- y[0,0])*a2[0,0])  * self.w2[j,0] * self.relu_prime(z1[j,0]) * x[i,0]\n",
        "\n",
        "        self.dw1[i,j] = (a2[0,0]- y[0,0])  * self.w2[j,0] * self.relu_prime(z1[j,0]) * x[i,0]\n",
        "\n",
        "      # self.db1[j,0] = (-y[0,0]*(1-a2[0,0]) + (1- y[0,0])*a2[0,0])  * self.w2[j,0] * self.relu_prime(z1[j,0])\n",
        "\n",
        "\n",
        "    '''\n",
        "    # update\n",
        "    self.w1 = self.w1 - lr*self.dw1\n",
        "    self.w2 = self.w2 - lr*self.dw2\n",
        "\n",
        "    self.b1 = self.b1 - lr*self.db1\n",
        "    self.b2 = self.b2 - lr*self.db2\n",
        "\n",
        "    '''\n",
        "    self.velocity_w1 = self.momentum * self.velocity_w1 + (1 - self.momentum) * self.dw1\n",
        "    self.velocity_w2 = self.momentum * self.velocity_w2 + (1 - self.momentum) * self.dw2\n",
        "\n",
        "    self.w1 = self.w1 - lr*self.velocity_w1\n",
        "    self.w2 = self.w2 - lr*self.velocity_w2\n",
        "\n",
        "    # print (np.linalg.norm(self.dw1))\n",
        "\n",
        "    return a2 , L\n"
      ]
    },
    {
      "cell_type": "markdown",
      "source": [
        "#### Inference of test"
      ],
      "metadata": {
        "id": "_1z6J9RfmuY4"
      }
    },
    {
      "cell_type": "code",
      "source": [
        "# eval\n",
        "THRESHOLD = 0.5\n",
        "def inference(X_test, Y_test):\n",
        "    print ('=== Inference ===')\n",
        "    correct = 0\n",
        "    ALL_PREDS = []\n",
        "    ALL_YS = []\n",
        "    for itr in range(len(X_test)):\n",
        "\n",
        "        x = X_test[itr:itr+1,:].T\n",
        "        y = Y_test[itr,0]\n",
        "\n",
        "        y_pred = net.forward(x)\n",
        "\n",
        "        y_pred = y_pred[0,0]\n",
        "\n",
        "        # print (y_pred)\n",
        "\n",
        "        if y_pred < THRESHOLD:\n",
        "            y_pred = 0\n",
        "        else:\n",
        "            y_pred = 1\n",
        "        ALL_PREDS.append(y_pred)\n",
        "        ALL_YS.append(y)\n",
        "        if (y_pred == y):\n",
        "            correct +=1\n",
        "\n",
        "    print('Correctly classified: ', correct)\n",
        "    return (ALL_PREDS, ALL_YS)"
      ],
      "metadata": {
        "id": "04C8wiWYETrR"
      },
      "execution_count": null,
      "outputs": []
    },
    {
      "cell_type": "markdown",
      "source": [
        "#### Create history for dumping"
      ],
      "metadata": {
        "id": "OcYl5Nl0mwxq"
      }
    },
    {
      "cell_type": "code",
      "source": [
        "! mkdir history"
      ],
      "metadata": {
        "id": "4m_H1VV5DjEz"
      },
      "execution_count": null,
      "outputs": []
    },
    {
      "cell_type": "markdown",
      "source": [
        "#### Set the seed before training"
      ],
      "metadata": {
        "id": "Ls2cexcFm0lK"
      }
    },
    {
      "cell_type": "code",
      "source": [
        "# Set the seed for NumPy\n",
        "np.random.seed(42)\n",
        "\n",
        "# Set the seed for the built-in random module\n",
        "random.seed(42)\n",
        "\n",
        "# Get the number of samples\n",
        "num_samples = X.shape[0]\n",
        "\n",
        "# Shuffle indices\n",
        "indices = np.arange(num_samples)\n",
        "np.random.shuffle(indices)"
      ],
      "metadata": {
        "id": "7u1ciLGC4dS9"
      },
      "execution_count": null,
      "outputs": []
    },
    {
      "cell_type": "code",
      "source": [
        "pos_ind = [i for i in range(len(Y)) if Y[i]==1]\n",
        "neg_ind = [i for i in range(len(Y)) if Y[i]==0]\n",
        "\n",
        "k =  4 # Set the number of folds (k)\n",
        "# You can adjust this based on your preference\n",
        "\n",
        "split_arrays_pos = np.array_split(pos_ind, k)\n",
        "split_arrays_neg = np.array_split(neg_ind, k)\n"
      ],
      "metadata": {
        "id": "UkdYjLmdkdfQ"
      },
      "execution_count": null,
      "outputs": []
    },
    {
      "cell_type": "code",
      "source": [
        "fold_indices = []\n",
        "for i in range(k):\n",
        "  # print (split_arrays_pos[i])\n",
        "  part = np.concatenate((split_arrays_pos[i], split_arrays_neg[i]))\n",
        "  fold_indices.append(part)"
      ],
      "metadata": {
        "id": "vzG5h_qi16Dk"
      },
      "execution_count": null,
      "outputs": []
    },
    {
      "cell_type": "markdown",
      "source": [
        "## Training Loop"
      ],
      "metadata": {
        "id": "XOEsioLKlNVE"
      }
    },
    {
      "cell_type": "code",
      "execution_count": null,
      "metadata": {
        "colab": {
          "base_uri": "https://localhost:8080/",
          "height": 458,
          "referenced_widgets": [
            "6cb9ead5ec3c4514a80e464bfedf5418",
            "70107b9714934acfb96dcae0344784d1",
            "67a1da4d025f4efa8ae2acc9c23a7fb5",
            "280050b7653f4b538df204192984207f",
            "216a376063d04177b29e965142424643",
            "db852b48dedc4394bc10cf67e318f37b",
            "4659fc47022c429d852f554b2c09840d",
            "83530d1440964d2ca542d5f03185cfd8",
            "a61dff659e2c4efca210418ce0c187c6",
            "cdcf894d572a4dc9852861d596057080",
            "f29950f40f0f4d549c530c2a3cabc2fd"
          ]
        },
        "id": "P2BtKRooINiV",
        "outputId": "568d78d2-939e-4a8d-9162-666f30b2558b"
      },
      "outputs": [
        {
          "output_type": "stream",
          "name": "stdout",
          "text": [
            "FOLD =  0\n"
          ]
        },
        {
          "output_type": "stream",
          "name": "stderr",
          "text": [
            "<ipython-input-14-c1df3bcb5043>:22: TqdmDeprecationWarning: This function will be removed in tqdm==5.0.0\n",
            "Please use `tqdm.notebook.tqdm` instead of `tqdm.tqdm_notebook`\n",
            "  for epoch in tqdm_notebook(range(TOTAL_EPOCHS)):\n"
          ]
        },
        {
          "output_type": "display_data",
          "data": {
            "text/plain": [
              "  0%|          | 0/1000 [00:00<?, ?it/s]"
            ],
            "application/vnd.jupyter.widget-view+json": {
              "version_major": 2,
              "version_minor": 0,
              "model_id": "6cb9ead5ec3c4514a80e464bfedf5418"
            }
          },
          "metadata": {}
        },
        {
          "output_type": "error",
          "ename": "KeyboardInterrupt",
          "evalue": "",
          "traceback": [
            "\u001b[0;31m---------------------------------------------------------------------------\u001b[0m",
            "\u001b[0;31mKeyboardInterrupt\u001b[0m                         Traceback (most recent call last)",
            "\u001b[0;32m<ipython-input-14-c1df3bcb5043>\u001b[0m in \u001b[0;36m<cell line: 2>\u001b[0;34m()\u001b[0m\n\u001b[1;32m     28\u001b[0m             \u001b[0;31m# print(\"x shape = \",x.shape,\" y shape = \",y.shape)\u001b[0m\u001b[0;34m\u001b[0m\u001b[0;34m\u001b[0m\u001b[0m\n\u001b[1;32m     29\u001b[0m \u001b[0;34m\u001b[0m\u001b[0m\n\u001b[0;32m---> 30\u001b[0;31m             \u001b[0my_pred\u001b[0m\u001b[0;34m,\u001b[0m \u001b[0mL\u001b[0m \u001b[0;34m=\u001b[0m \u001b[0mnet\u001b[0m\u001b[0;34m.\u001b[0m\u001b[0mforward_backward\u001b[0m\u001b[0;34m(\u001b[0m\u001b[0mx\u001b[0m\u001b[0;34m,\u001b[0m\u001b[0my\u001b[0m\u001b[0;34m,\u001b[0m\u001b[0;36m1e-2\u001b[0m\u001b[0;34m)\u001b[0m\u001b[0;34m\u001b[0m\u001b[0;34m\u001b[0m\u001b[0m\n\u001b[0m\u001b[1;32m     31\u001b[0m \u001b[0;34m\u001b[0m\u001b[0m\n\u001b[1;32m     32\u001b[0m             \u001b[0mtotal\u001b[0m \u001b[0;34m+=\u001b[0m \u001b[0mL\u001b[0m\u001b[0;34m\u001b[0m\u001b[0;34m\u001b[0m\u001b[0m\n",
            "\u001b[0;32m<ipython-input-8-15378d13ca99>\u001b[0m in \u001b[0;36mforward_backward\u001b[0;34m(self, x, y, lr)\u001b[0m\n\u001b[1;32m     56\u001b[0m     \u001b[0;31m# forward\u001b[0m\u001b[0;34m\u001b[0m\u001b[0;34m\u001b[0m\u001b[0m\n\u001b[1;32m     57\u001b[0m     \u001b[0mz1\u001b[0m \u001b[0;34m=\u001b[0m \u001b[0mself\u001b[0m\u001b[0;34m.\u001b[0m\u001b[0mw1\u001b[0m\u001b[0;34m.\u001b[0m\u001b[0mT\u001b[0m \u001b[0;34m@\u001b[0m \u001b[0mx\u001b[0m \u001b[0;31m#+ self.b1\u001b[0m\u001b[0;34m\u001b[0m\u001b[0;34m\u001b[0m\u001b[0m\n\u001b[0;32m---> 58\u001b[0;31m     \u001b[0ma1\u001b[0m \u001b[0;34m=\u001b[0m \u001b[0mself\u001b[0m\u001b[0;34m.\u001b[0m\u001b[0mrelu\u001b[0m\u001b[0;34m(\u001b[0m\u001b[0mz1\u001b[0m\u001b[0;34m)\u001b[0m\u001b[0;34m\u001b[0m\u001b[0;34m\u001b[0m\u001b[0m\n\u001b[0m\u001b[1;32m     59\u001b[0m \u001b[0;34m\u001b[0m\u001b[0m\n\u001b[1;32m     60\u001b[0m     \u001b[0mz2\u001b[0m \u001b[0;34m=\u001b[0m \u001b[0mself\u001b[0m\u001b[0;34m.\u001b[0m\u001b[0mw2\u001b[0m\u001b[0;34m.\u001b[0m\u001b[0mT\u001b[0m \u001b[0;34m@\u001b[0m \u001b[0ma1\u001b[0m \u001b[0;31m#+ self.b2\u001b[0m\u001b[0;34m\u001b[0m\u001b[0;34m\u001b[0m\u001b[0m\n",
            "\u001b[0;32m<ipython-input-8-15378d13ca99>\u001b[0m in \u001b[0;36mrelu\u001b[0;34m(self, x)\u001b[0m\n\u001b[1;32m     24\u001b[0m \u001b[0;34m\u001b[0m\u001b[0m\n\u001b[1;32m     25\u001b[0m \u001b[0;34m\u001b[0m\u001b[0m\n\u001b[0;32m---> 26\u001b[0;31m   \u001b[0;32mdef\u001b[0m \u001b[0mrelu\u001b[0m\u001b[0;34m(\u001b[0m\u001b[0mself\u001b[0m\u001b[0;34m,\u001b[0m \u001b[0mx\u001b[0m\u001b[0;34m)\u001b[0m\u001b[0;34m:\u001b[0m\u001b[0;34m\u001b[0m\u001b[0;34m\u001b[0m\u001b[0m\n\u001b[0m\u001b[1;32m     27\u001b[0m     \u001b[0;32mreturn\u001b[0m \u001b[0mnp\u001b[0m\u001b[0;34m.\u001b[0m\u001b[0mmaximum\u001b[0m\u001b[0;34m(\u001b[0m\u001b[0mx\u001b[0m\u001b[0;34m,\u001b[0m\u001b[0;36m0\u001b[0m\u001b[0;34m)\u001b[0m\u001b[0;34m\u001b[0m\u001b[0;34m\u001b[0m\u001b[0m\n\u001b[1;32m     28\u001b[0m \u001b[0;34m\u001b[0m\u001b[0m\n",
            "\u001b[0;31mKeyboardInterrupt\u001b[0m: "
          ]
        }
      ],
      "source": [
        "\n",
        "\n",
        "# Iterate over the folds\n",
        "for i in range(k):\n",
        "    print(\"FOLD = \",i)\n",
        "\n",
        "    # init model for this fold\n",
        "    net = MLP(10, 16)\n",
        "\n",
        "    test_indices = fold_indices[i]\n",
        "    train_indices = np.concatenate([fold_indices[j] for j in range(k) if j != i])\n",
        "\n",
        "    X_train, X_test = X[train_indices], X[test_indices]\n",
        "    Y_train, Y_test = Y[train_indices], Y[test_indices]\n",
        "\n",
        "    Y_test = Y_test.reshape(Y_test.shape[0],1)\n",
        "    Y_train = Y_train.reshape(Y_train.shape[0],1)\n",
        "    # Your training and testing code goes here\n",
        "    # For example, you can train your model using X_train, Y_train, and then evaluate on X_test, Y_test\n",
        "    # print(\"X_test = \",X_test.shape,\" Y_test\",Y_test.shape)\n",
        "\n",
        "    TOTAL_EPOCHS = 1000\n",
        "    LOSS_LIST = []\n",
        "    for epoch in tqdm_notebook(range(TOTAL_EPOCHS)):\n",
        "        total = 0\n",
        "        for itr in range(len(X_train)):\n",
        "            x = X_train[itr:itr+1,:].T\n",
        "            # y = Y[itr:itr+1,:]\n",
        "            y = Y_train[itr:itr+1,:]\n",
        "            # print(\"x shape = \",x.shape,\" y shape = \",y.shape)\n",
        "\n",
        "            y_pred, L = net.forward_backward(x,y,1e-2)\n",
        "\n",
        "            total += L\n",
        "        LOSS_LIST.append(total[0][0])\n",
        "        # print ('Epoch: ',epoch, '/ Fold: ',i,' Loss: ', total[0][0])\n",
        "        # print(\"--i = \",i)\n",
        "        with open(\"history/train_logs_fold_{}.txt\".format(str(i)), \"a\") as text_file:\n",
        "            text_file.write(\"{} {:.6f} \\n\".format(epoch, total[0][0]))\n",
        "        # print (\"====\")\n",
        "\n",
        "    ALL_PREDS, ALL_YS = inference(X_test, Y_test)\n",
        "    print(\"LOSS LIST = \",LOSS_LIST)\n",
        "    plt.title('Loss vs epochs')\n",
        "    # Set axis labels\n",
        "    plt.xlabel('Epochs')\n",
        "    plt.ylabel('Loss')\n",
        "    plt.plot(LOSS_LIST)\n",
        "    plt.savefig('Loss_fold_{}.png'.format(i), bbox_inches='tight')\n",
        "    plt.close()\n",
        "\n",
        "    print(\"ALL PREDS = \",ALL_PREDS)\n",
        "    print(\"ALL YS = \",ALL_YS)\n",
        "    precision_val = precision(ALL_PREDS, ALL_YS)\n",
        "    print(\"precision ==> \",precision_val)\n",
        "\n",
        "    recall_val = recall(ALL_PREDS, ALL_YS)\n",
        "    print(\"recall ==> \",recall_val)\n",
        "\n",
        "    f1_val = f1_score(precision_val, recall_val)\n",
        "    print(\"F1 ==> \",f1_val)\n",
        "\n",
        "    with open(\"history/precision_fold_{}.txt\".format(str(i)), \"a\") as text_file:\n",
        "            text_file.write(\"{:.6f} \\n\".format(precision_val))\n",
        "    # if epoch%20==0:\n",
        "    #     inference(X_test, Y_test)\n",
        "\n",
        "    file_name = f'history/fold_{i}_model.pkl'\n",
        "\n",
        "    with open(file_name, 'wb') as file:\n",
        "        pickle.dump(net, file)\n",
        "        print(f'Weights successfully saved to \"{file_name}\"')\n"
      ]
    },
    {
      "cell_type": "markdown",
      "source": [
        "#### Compress the history"
      ],
      "metadata": {
        "id": "oo-VFfUym9xh"
      }
    },
    {
      "cell_type": "code",
      "source": [
        "! zip -r history.zip history/"
      ],
      "metadata": {
        "id": "E6np3B6zC0-6",
        "colab": {
          "base_uri": "https://localhost:8080/"
        },
        "outputId": "f3261d44-eaeb-4b73-f633-4317a773de84"
      },
      "execution_count": null,
      "outputs": [
        {
          "output_type": "stream",
          "name": "stdout",
          "text": [
            "updating: history/ (stored 0%)\n",
            "updating: history/train_logs_fold_0.txt (deflated 49%)\n"
          ]
        }
      ]
    },
    {
      "cell_type": "markdown",
      "source": [
        "#### Inference time"
      ],
      "metadata": {
        "id": "-i2ef93hnBH1"
      }
    },
    {
      "cell_type": "code",
      "source": [
        "y_pred_list = []\n",
        "\n",
        "for i in range(len(X)):\n",
        "    x = X[i:i+1,:].T\n",
        "    y = Y[i,0]\n",
        "\n",
        "    y_pred = net.forward(x)\n",
        "\n",
        "    y_pred = y_pred[0,0]\n",
        "\n",
        "    y_pred_list.append(y_pred)"
      ],
      "metadata": {
        "id": "FyO48unSgGqu",
        "colab": {
          "base_uri": "https://localhost:8080/",
          "height": 216
        },
        "outputId": "1f3b846f-e926-4237-a511-b025b071c66e"
      },
      "execution_count": null,
      "outputs": [
        {
          "output_type": "error",
          "ename": "IndexError",
          "evalue": "too many indices for array: array is 1-dimensional, but 2 were indexed",
          "traceback": [
            "\u001b[0;31m---------------------------------------------------------------------------\u001b[0m",
            "\u001b[0;31mIndexError\u001b[0m                                Traceback (most recent call last)",
            "\u001b[0;32m<ipython-input-13-509ea07dcbea>\u001b[0m in \u001b[0;36m<cell line: 3>\u001b[0;34m()\u001b[0m\n\u001b[1;32m      3\u001b[0m \u001b[0;32mfor\u001b[0m \u001b[0mi\u001b[0m \u001b[0;32min\u001b[0m \u001b[0mrange\u001b[0m\u001b[0;34m(\u001b[0m\u001b[0mlen\u001b[0m\u001b[0;34m(\u001b[0m\u001b[0mX\u001b[0m\u001b[0;34m)\u001b[0m\u001b[0;34m)\u001b[0m\u001b[0;34m:\u001b[0m\u001b[0;34m\u001b[0m\u001b[0;34m\u001b[0m\u001b[0m\n\u001b[1;32m      4\u001b[0m     \u001b[0mx\u001b[0m \u001b[0;34m=\u001b[0m \u001b[0mX\u001b[0m\u001b[0;34m[\u001b[0m\u001b[0mi\u001b[0m\u001b[0;34m:\u001b[0m\u001b[0mi\u001b[0m\u001b[0;34m+\u001b[0m\u001b[0;36m1\u001b[0m\u001b[0;34m,\u001b[0m\u001b[0;34m:\u001b[0m\u001b[0;34m]\u001b[0m\u001b[0;34m.\u001b[0m\u001b[0mT\u001b[0m\u001b[0;34m\u001b[0m\u001b[0;34m\u001b[0m\u001b[0m\n\u001b[0;32m----> 5\u001b[0;31m     \u001b[0my\u001b[0m \u001b[0;34m=\u001b[0m \u001b[0mY\u001b[0m\u001b[0;34m[\u001b[0m\u001b[0mi\u001b[0m\u001b[0;34m,\u001b[0m\u001b[0;36m0\u001b[0m\u001b[0;34m]\u001b[0m\u001b[0;34m\u001b[0m\u001b[0;34m\u001b[0m\u001b[0m\n\u001b[0m\u001b[1;32m      6\u001b[0m \u001b[0;34m\u001b[0m\u001b[0m\n\u001b[1;32m      7\u001b[0m     \u001b[0my_pred\u001b[0m \u001b[0;34m=\u001b[0m \u001b[0mnet\u001b[0m\u001b[0;34m.\u001b[0m\u001b[0mforward\u001b[0m\u001b[0;34m(\u001b[0m\u001b[0mx\u001b[0m\u001b[0;34m)\u001b[0m\u001b[0;34m\u001b[0m\u001b[0;34m\u001b[0m\u001b[0m\n",
            "\u001b[0;31mIndexError\u001b[0m: too many indices for array: array is 1-dimensional, but 2 were indexed"
          ]
        }
      ]
    },
    {
      "cell_type": "code",
      "source": [],
      "metadata": {
        "id": "xYctpcCTsIfw"
      },
      "execution_count": null,
      "outputs": []
    },
    {
      "cell_type": "markdown",
      "source": [
        "#Demo Code"
      ],
      "metadata": {
        "id": "nfTHM6mpcBwU"
      }
    },
    {
      "cell_type": "code",
      "source": [
        "import matplotlib\n",
        "import numpy as np\n",
        "import pandas as pd\n",
        "import matplotlib.pyplot as plt\n",
        "import random\n",
        "from tqdm import tqdm_notebook\n",
        "import pickle\n",
        "import copy"
      ],
      "metadata": {
        "id": "uGSGLcc0XA0-"
      },
      "execution_count": null,
      "outputs": []
    },
    {
      "cell_type": "markdown",
      "source": [
        "#### Download the pre-trained model"
      ],
      "metadata": {
        "id": "z29Se8pRnNbd"
      }
    },
    {
      "cell_type": "code",
      "source": [
        "! wget \"https://github.com/Jimut123/simply_junk/raw/main/models/history.zip\""
      ],
      "metadata": {
        "colab": {
          "base_uri": "https://localhost:8080/"
        },
        "id": "IJNeqciokuTX",
        "outputId": "a2445b5f-bd5e-4f67-b045-a541943ef559"
      },
      "execution_count": null,
      "outputs": [
        {
          "output_type": "stream",
          "name": "stdout",
          "text": [
            "--2024-02-20 06:26:00--  https://github.com/Jimut123/simply_junk/raw/main/models/history.zip\n",
            "Resolving github.com (github.com)... 140.82.112.4\n",
            "Connecting to github.com (github.com)|140.82.112.4|:443... connected.\n",
            "HTTP request sent, awaiting response... 302 Found\n",
            "Location: https://raw.githubusercontent.com/Jimut123/simply_junk/main/models/history.zip [following]\n",
            "--2024-02-20 06:26:00--  https://raw.githubusercontent.com/Jimut123/simply_junk/main/models/history.zip\n",
            "Resolving raw.githubusercontent.com (raw.githubusercontent.com)... 185.199.109.133, 185.199.111.133, 185.199.108.133, ...\n",
            "Connecting to raw.githubusercontent.com (raw.githubusercontent.com)|185.199.109.133|:443... connected.\n",
            "HTTP request sent, awaiting response... 200 OK\n",
            "Length: 52914 (52K) [application/zip]\n",
            "Saving to: ‘history.zip’\n",
            "\n",
            "history.zip         100%[===================>]  51.67K  --.-KB/s    in 0.01s   \n",
            "\n",
            "2024-02-20 06:26:00 (3.68 MB/s) - ‘history.zip’ saved [52914/52914]\n",
            "\n"
          ]
        }
      ]
    },
    {
      "cell_type": "code",
      "source": [
        "!unzip '/content/history.zip'"
      ],
      "metadata": {
        "id": "NmK3tW3UVkQz",
        "outputId": "361172c8-f87f-467d-fef5-58844be26733",
        "colab": {
          "base_uri": "https://localhost:8080/"
        }
      },
      "execution_count": null,
      "outputs": [
        {
          "output_type": "stream",
          "name": "stdout",
          "text": [
            "Archive:  /content/history.zip\n",
            "  inflating: history/train_logs_fold_2.txt  \n",
            "  inflating: history/precision_fold_1.txt  \n",
            "  inflating: history/train_logs_fold_1.txt  \n",
            "  inflating: history/fold_1_model.pkl  \n",
            "  inflating: history/train_logs_fold_3.txt  \n",
            "  inflating: history/fold_0_model.pkl  \n",
            "  inflating: history/precision_fold_0.txt  \n",
            "  inflating: history/fold_3_model.pkl  \n",
            "  inflating: history/train_logs_fold_0.txt  \n",
            "  inflating: history/precision_fold_2.txt  \n",
            "  inflating: history/fold_2_model.pkl  \n",
            "  inflating: history/precision_fold_3.txt  \n"
          ]
        }
      ]
    },
    {
      "cell_type": "code",
      "source": [
        "import numpy as np"
      ],
      "metadata": {
        "id": "O5LXS43NYPeF"
      },
      "execution_count": null,
      "outputs": []
    },
    {
      "cell_type": "code",
      "source": [
        "with open ('/content/history/fold_3_model.pkl', 'rb' ) as f:\n",
        "    model = pickle.load(f)"
      ],
      "metadata": {
        "id": "i2JCPUWcWwZb"
      },
      "execution_count": null,
      "outputs": []
    },
    {
      "cell_type": "markdown",
      "source": [
        "#### Demo of any random 10-digit bit sequence given as input"
      ],
      "metadata": {
        "id": "qV2reuugnRk5"
      }
    },
    {
      "cell_type": "code",
      "source": [
        "# INPUT = [1,0,1,1,1,1,1,1,1,1]\n",
        "INPUT = [1,0,1,0,0,0,0,1,0,1]"
      ],
      "metadata": {
        "id": "OsjzQsK1lU-I"
      },
      "execution_count": null,
      "outputs": []
    },
    {
      "cell_type": "code",
      "source": [
        "pred = model.forward(INPUT)\n",
        "if pred<0.5:\n",
        "  print(\"The number isn't palindrome\")\n",
        "else: print(\"The number is palindrome\")"
      ],
      "metadata": {
        "id": "rQmfyveqXGjb",
        "outputId": "63a40e3b-87dc-443d-ddac-951d56dd00d2",
        "colab": {
          "base_uri": "https://localhost:8080/"
        }
      },
      "execution_count": null,
      "outputs": [
        {
          "output_type": "stream",
          "name": "stdout",
          "text": [
            "The number is palindrome\n"
          ]
        }
      ]
    },
    {
      "cell_type": "code",
      "source": [],
      "metadata": {
        "id": "2OEuPhdOk5X8"
      },
      "execution_count": null,
      "outputs": []
    },
    {
      "cell_type": "markdown",
      "source": [
        "#### Visualize the weights"
      ],
      "metadata": {
        "id": "FIoLgyQosfFo"
      }
    },
    {
      "cell_type": "code",
      "source": [
        "# net.w1.shape\n",
        "print(\"Max = \",np.max(model.w1),\" Min = \",np.min(model.w1))\n",
        "fig= plt.imshow(model.w1,cmap='jet')\n",
        "plt.colorbar(fig)\n",
        "plt.savefig(\"w1_weights_viz_net.png\", bbox_inches='tight', pad_inches=0, dpi=500)\n",
        "# plt.savefig(\"w1_weights_viz_net.eps\", bbox_inches='tight', pad_inches=0, dpi=500)\n",
        "plt.show()"
      ],
      "metadata": {
        "colab": {
          "base_uri": "https://localhost:8080/",
          "height": 424
        },
        "id": "fsrlIHIZsZ5r",
        "outputId": "0c53afad-8d2c-40b2-c601-f747f1b763b1"
      },
      "execution_count": null,
      "outputs": [
        {
          "output_type": "stream",
          "name": "stdout",
          "text": [
            "Max =  2.360399392750456  Min =  -2.3593158329815704\n"
          ]
        },
        {
          "output_type": "display_data",
          "data": {
            "text/plain": [
              "<Figure size 640x480 with 2 Axes>"
            ],
            "image/png": "[encoded data removed]"
          },
          "metadata": {}
        }
      ]
    },
    {
      "cell_type": "code",
      "source": [
        "fig = plt.imshow(model.w2,cmap='jet')\n",
        "plt.colorbar(fig)\n",
        "plt.xticks([])\n",
        "plt.savefig(\"w2_weights_viz_net.png\", bbox_inches='tight', pad_inches=0, dpi=500)\n",
        "# plt.savefig(\"w2_weights_viz_net.eps\", bbox_inches='tight', pad_inches=0, dpi=500)\n",
        "plt.show()"
      ],
      "metadata": {
        "colab": {
          "base_uri": "https://localhost:8080/",
          "height": 406
        },
        "id": "kAg2zAYvsZ5H",
        "outputId": "25db0e01-02d0-4adf-8120-02b93a525336"
      },
      "execution_count": null,
      "outputs": [
        {
          "output_type": "display_data",
          "data": {
            "text/plain": [
              "<Figure size 640x480 with 2 Axes>"
            ],
            "image/png": "[encoded data removed]"
          },
          "metadata": {}
        }
      ]
    },
    {
      "cell_type": "markdown",
      "source": [
        "#### Plot the velocity of the w1 and w2"
      ],
      "metadata": {
        "id": "t2DYxFCPz_Al"
      }
    },
    {
      "cell_type": "code",
      "source": [
        "fig = plt.imshow(model.velocity_w1,cmap='jet')\n",
        "plt.colorbar(fig)\n",
        "plt.savefig(\"velocity_w1_viz_net.png\", bbox_inches='tight', pad_inches=0, dpi=500)\n",
        "# plt.savefig(\"velocity_w1_viz_net.eps\", bbox_inches='tight', pad_inches=0, dpi=500)\n",
        "plt.show()"
      ],
      "metadata": {
        "colab": {
          "base_uri": "https://localhost:8080/",
          "height": 406
        },
        "id": "WUY_loxcs6jl",
        "outputId": "23cd744d-838a-420f-9e5a-43b02442b5e0"
      },
      "execution_count": null,
      "outputs": [
        {
          "output_type": "display_data",
          "data": {
            "text/plain": [
              "<Figure size 640x480 with 2 Axes>"
            ],
            "image/png": "[encoded data removed]"
          },
          "metadata": {}
        }
      ]
    },
    {
      "cell_type": "code",
      "source": [
        "fig = plt.imshow(model.velocity_w2,cmap='jet')\n",
        "plt.colorbar(fig)\n",
        "plt.xticks([])\n",
        "plt.savefig(\"velocity_w2_viz_net.png\", bbox_inches='tight', pad_inches=0, dpi=500)\n",
        "# plt.savefig(\"velocity_w2_viz_net.eps\", bbox_inches='tight', pad_inches=0, dpi=500)\n",
        "plt.show()"
      ],
      "metadata": {
        "colab": {
          "base_uri": "https://localhost:8080/",
          "height": 406
        },
        "id": "iu_wZiWls6cD",
        "outputId": "eef48381-ad78-4fca-e14a-8ae5bd60d395"
      },
      "execution_count": null,
      "outputs": [
        {
          "output_type": "display_data",
          "data": {
            "text/plain": [
              "<Figure size 640x480 with 2 Axes>"
            ],
            "image/png": "[encoded data removed]"
          },
          "metadata": {}
        }
      ]
    },
    {
      "cell_type": "markdown",
      "source": [
        "#### Code to plot the confusion metrics"
      ],
      "metadata": {
        "id": "p3ZMtWktz7KB"
      }
    },
    {
      "cell_type": "code",
      "source": [
        "import numpy as np\n",
        "import pandas as pd\n",
        "import matplotlib.pyplot as plt\n",
        "import seaborn as sns\n",
        "from sklearn.metrics import confusion_matrix\n",
        "\n",
        "def cm_analysis(y_true, y_pred, labels, fold_no, ymap=None, figsize=(10,10)):\n",
        "    \"\"\"\n",
        "    Generate matrix plot of confusion matrix with pretty annotations.\n",
        "    The plot image is saved to disk.\n",
        "    args:\n",
        "      y_true:    true label of the data, with shape (nsamples,)\n",
        "      y_pred:    prediction of the data, with shape (nsamples,)\n",
        "      filename:  filename of figure file to save\n",
        "      labels:    string array, name the order of class labels in the confusion matrix.\n",
        "                 use `clf.classes_` if using scikit-learn models.\n",
        "                 with shape (nclass,).\n",
        "      ymap:      dict: any -> string, length == nclass.\n",
        "                 if not None, map the labels & ys to more understandable strings.\n",
        "                 Caution: original y_true, y_pred and labels must align.\n",
        "      figsize:   the size of the figure plotted.\n",
        "    \"\"\"\n",
        "    if ymap is not None:\n",
        "        y_pred = [ymap[yi] for yi in y_pred]\n",
        "        y_true = [ymap[yi] for yi in y_true]\n",
        "        labels = [ymap[yi] for yi in labels]\n",
        "    cm = confusion_matrix(y_true, y_pred, labels=labels)\n",
        "    cm_sum = np.sum(cm, axis=1, keepdims=True)\n",
        "    cm_perc = cm / cm_sum.astype(float) * 100\n",
        "    annot = np.empty_like(cm).astype(str)\n",
        "    nrows, ncols = cm.shape\n",
        "    for i in range(nrows):\n",
        "        for j in range(ncols):\n",
        "            c = cm[i, j]\n",
        "            p = cm_perc[i, j]\n",
        "            if i == j:\n",
        "                s = cm_sum[i]\n",
        "                annot[i, j] = '%.1f%%\\n%d/%d' % (p, c, s)\n",
        "            elif c == 0:\n",
        "                annot[i, j] = ''\n",
        "            else:\n",
        "                annot[i, j] = '%.1f%%\\n%d' % (p, c)\n",
        "    cm = pd.DataFrame(cm, index=labels, columns=labels)\n",
        "    cm.index.name = 'Actual'\n",
        "    cm.columns.name = 'Predicted'\n",
        "    fig, ax = plt.subplots(figsize=figsize)\n",
        "    sns.heatmap(cm, annot=annot, fmt='', ax=ax, cmap='rocket_r')\n",
        "    #plt.savefig(filename)\n",
        "    plt.savefig('confusion_matrix_fold_{}.png'.format(fold_no),bbox_inches='tight', pad_inches=0, dpi=500)\n",
        "    # plt.savefig('confusion_matrix.eps')\n",
        "    #plt.show()\n"
      ],
      "metadata": {
        "id": "LWl9rQHLs6bV"
      },
      "execution_count": null,
      "outputs": []
    },
    {
      "cell_type": "markdown",
      "source": [
        "#### Finding the inference over all the folds and printing the confusion metrics"
      ],
      "metadata": {
        "id": "-MdUzOtHzzE-"
      }
    },
    {
      "cell_type": "code",
      "source": [
        "# Iterate over the folds\n",
        "k = 4\n",
        "for i in range(k):\n",
        "    print(\"FOLD = \",i)\n",
        "\n",
        "    # init model for this fold\n",
        "    # net = MLP(10, 16)\n",
        "\n",
        "    with open ('./history/fold_{}_model.pkl'.format(i), 'rb' ) as f:\n",
        "        net = pickle.load(f)\n",
        "\n",
        "    test_indices = fold_indices[i]\n",
        "    train_indices = np.concatenate([fold_indices[j] for j in range(k) if j != i])\n",
        "\n",
        "    X_train, X_test = X[train_indices], X[test_indices]\n",
        "    Y_train, Y_test = Y[train_indices], Y[test_indices]\n",
        "\n",
        "    Y_test = Y_test.reshape(Y_test.shape[0],1)\n",
        "    Y_train = Y_train.reshape(Y_train.shape[0],1)\n",
        "    # Your training and testing code goes here\n",
        "    # For example, you can train your model using X_train, Y_train, and then evaluate on X_test, Y_test\n",
        "    # print(\"X_test = \",X_test.shape,\" Y_test\",Y_test.shape)\n",
        "\n",
        "    # TOTAL_EPOCHS = 1000\n",
        "    # LOSS_LIST = []\n",
        "    # for epoch in tqdm_notebook(range(TOTAL_EPOCHS)):\n",
        "    #     total = 0\n",
        "    #     for itr in range(len(X_train)):\n",
        "    #         x = X_train[itr:itr+1,:].T\n",
        "    #         # y = Y[itr:itr+1,:]\n",
        "    #         y = Y_train[itr:itr+1,:]\n",
        "    #         # print(\"x shape = \",x.shape,\" y shape = \",y.shape)\n",
        "\n",
        "    #         y_pred, L = net.forward_backward(x,y,1e-2)\n",
        "\n",
        "    #         total += L\n",
        "    #     LOSS_LIST.append(total[0][0])\n",
        "    #     # print ('Epoch: ',epoch, '/ Fold: ',i,' Loss: ', total[0][0])\n",
        "    #     # print(\"--i = \",i)\n",
        "    #     with open(\"history/train_logs_fold_{}.txt\".format(str(i)), \"a\") as text_file:\n",
        "    #         text_file.write(\"{} {:.6f} \\n\".format(epoch, total[0][0]))\n",
        "    #     # print (\"====\")\n",
        "\n",
        "    ALL_PREDS, ALL_YS = inference(X_test, Y_test)\n",
        "    print(ALL_PREDS, ALL_YS)\n",
        "    cm_analysis(ALL_PREDS, ALL_YS, [0, 1] , fold_no = i, ymap=None,figsize=(2,2))"
      ],
      "metadata": {
        "colab": {
          "base_uri": "https://localhost:8080/",
          "height": 1000
        },
        "id": "lGFpre9EyUYC",
        "outputId": "66a832f7-4213-4589-9084-cdac3d8f3d0d"
      },
      "execution_count": null,
      "outputs": [
        {
          "output_type": "stream",
          "name": "stdout",
          "text": [
            "FOLD =  0\n",
            "=== Inference ===\n",
            "Correctly classified:  256\n",
            "[1, 1, 1, 1, 1, 1, 1, 1, 0, 0, 0, 0, 0, 0, 0, 0, 0, 0, 0, 0, 0, 0, 0, 0, 0, 0, 0, 0, 0, 0, 0, 0, 0, 0, 0, 0, 0, 0, 0, 0, 0, 0, 0, 0, 0, 0, 0, 0, 0, 0, 0, 0, 0, 0, 0, 0, 0, 0, 0, 0, 0, 0, 0, 0, 0, 0, 0, 0, 0, 0, 0, 0, 0, 0, 0, 0, 0, 0, 0, 0, 0, 0, 0, 0, 0, 0, 0, 0, 0, 0, 0, 0, 0, 0, 0, 0, 0, 0, 0, 0, 0, 0, 0, 0, 0, 0, 0, 0, 0, 0, 0, 0, 0, 0, 0, 0, 0, 0, 0, 0, 0, 0, 0, 0, 0, 0, 0, 0, 0, 0, 0, 0, 0, 0, 0, 0, 0, 0, 0, 0, 0, 0, 0, 0, 0, 0, 0, 0, 0, 0, 0, 0, 0, 0, 0, 0, 0, 0, 0, 0, 0, 0, 0, 0, 0, 0, 0, 0, 0, 0, 0, 0, 0, 0, 0, 0, 0, 0, 0, 0, 0, 0, 0, 0, 0, 0, 0, 0, 0, 0, 0, 0, 0, 0, 0, 0, 0, 0, 0, 0, 0, 0, 0, 0, 0, 0, 0, 0, 0, 0, 0, 0, 0, 0, 0, 0, 0, 0, 0, 0, 0, 0, 0, 0, 0, 0, 0, 0, 0, 0, 0, 0, 0, 0, 0, 0, 0, 0, 0, 0, 0, 0, 0, 0, 0, 0, 0, 0, 0, 0, 0, 0, 0, 0, 0, 0] [1, 1, 1, 1, 1, 1, 1, 1, 0, 0, 0, 0, 0, 0, 0, 0, 0, 0, 0, 0, 0, 0, 0, 0, 0, 0, 0, 0, 0, 0, 0, 0, 0, 0, 0, 0, 0, 0, 0, 0, 0, 0, 0, 0, 0, 0, 0, 0, 0, 0, 0, 0, 0, 0, 0, 0, 0, 0, 0, 0, 0, 0, 0, 0, 0, 0, 0, 0, 0, 0, 0, 0, 0, 0, 0, 0, 0, 0, 0, 0, 0, 0, 0, 0, 0, 0, 0, 0, 0, 0, 0, 0, 0, 0, 0, 0, 0, 0, 0, 0, 0, 0, 0, 0, 0, 0, 0, 0, 0, 0, 0, 0, 0, 0, 0, 0, 0, 0, 0, 0, 0, 0, 0, 0, 0, 0, 0, 0, 0, 0, 0, 0, 0, 0, 0, 0, 0, 0, 0, 0, 0, 0, 0, 0, 0, 0, 0, 0, 0, 0, 0, 0, 0, 0, 0, 0, 0, 0, 0, 0, 0, 0, 0, 0, 0, 0, 0, 0, 0, 0, 0, 0, 0, 0, 0, 0, 0, 0, 0, 0, 0, 0, 0, 0, 0, 0, 0, 0, 0, 0, 0, 0, 0, 0, 0, 0, 0, 0, 0, 0, 0, 0, 0, 0, 0, 0, 0, 0, 0, 0, 0, 0, 0, 0, 0, 0, 0, 0, 0, 0, 0, 0, 0, 0, 0, 0, 0, 0, 0, 0, 0, 0, 0, 0, 0, 0, 0, 0, 0, 0, 0, 0, 0, 0, 0, 0, 0, 0, 0, 0, 0, 0, 0, 0, 0, 0]\n"
          ]
        },
        {
          "output_type": "stream",
          "name": "stderr",
          "text": [
            "<ipython-input-32-cd49880aa0d7>:38: DeprecationWarning: Conversion of an array with ndim > 0 to a scalar is deprecated, and will error in future. Ensure you extract a single element from your array before performing this operation. (Deprecated NumPy 1.25.)\n",
            "  annot[i, j] = '%.1f%%\\n%d/%d' % (p, c, s)\n"
          ]
        },
        {
          "output_type": "stream",
          "name": "stdout",
          "text": [
            "FOLD =  1\n",
            "=== Inference ===\n",
            "Correctly classified:  256\n",
            "[1, 1, 1, 1, 1, 1, 1, 1, 0, 0, 0, 0, 0, 0, 0, 0, 0, 0, 0, 0, 0, 0, 0, 0, 0, 0, 0, 0, 0, 0, 0, 0, 0, 0, 0, 0, 0, 0, 0, 0, 0, 0, 0, 0, 0, 0, 0, 0, 0, 0, 0, 0, 0, 0, 0, 0, 0, 0, 0, 0, 0, 0, 0, 0, 0, 0, 0, 0, 0, 0, 0, 0, 0, 0, 0, 0, 0, 0, 0, 0, 0, 0, 0, 0, 0, 0, 0, 0, 0, 0, 0, 0, 0, 0, 0, 0, 0, 0, 0, 0, 0, 0, 0, 0, 0, 0, 0, 0, 0, 0, 0, 0, 0, 0, 0, 0, 0, 0, 0, 0, 0, 0, 0, 0, 0, 0, 0, 0, 0, 0, 0, 0, 0, 0, 0, 0, 0, 0, 0, 0, 0, 0, 0, 0, 0, 0, 0, 0, 0, 0, 0, 0, 0, 0, 0, 0, 0, 0, 0, 0, 0, 0, 0, 0, 0, 0, 0, 0, 0, 0, 0, 0, 0, 0, 0, 0, 0, 0, 0, 0, 0, 0, 0, 0, 0, 0, 0, 0, 0, 0, 0, 0, 0, 0, 0, 0, 0, 0, 0, 0, 0, 0, 0, 0, 0, 0, 0, 0, 0, 0, 0, 0, 0, 0, 0, 0, 0, 0, 0, 0, 0, 0, 0, 0, 0, 0, 0, 0, 0, 0, 0, 0, 0, 0, 0, 0, 0, 0, 0, 0, 0, 0, 0, 0, 0, 0, 0, 0, 0, 0, 0, 0, 0, 0, 0, 0] [1, 1, 1, 1, 1, 1, 1, 1, 0, 0, 0, 0, 0, 0, 0, 0, 0, 0, 0, 0, 0, 0, 0, 0, 0, 0, 0, 0, 0, 0, 0, 0, 0, 0, 0, 0, 0, 0, 0, 0, 0, 0, 0, 0, 0, 0, 0, 0, 0, 0, 0, 0, 0, 0, 0, 0, 0, 0, 0, 0, 0, 0, 0, 0, 0, 0, 0, 0, 0, 0, 0, 0, 0, 0, 0, 0, 0, 0, 0, 0, 0, 0, 0, 0, 0, 0, 0, 0, 0, 0, 0, 0, 0, 0, 0, 0, 0, 0, 0, 0, 0, 0, 0, 0, 0, 0, 0, 0, 0, 0, 0, 0, 0, 0, 0, 0, 0, 0, 0, 0, 0, 0, 0, 0, 0, 0, 0, 0, 0, 0, 0, 0, 0, 0, 0, 0, 0, 0, 0, 0, 0, 0, 0, 0, 0, 0, 0, 0, 0, 0, 0, 0, 0, 0, 0, 0, 0, 0, 0, 0, 0, 0, 0, 0, 0, 0, 0, 0, 0, 0, 0, 0, 0, 0, 0, 0, 0, 0, 0, 0, 0, 0, 0, 0, 0, 0, 0, 0, 0, 0, 0, 0, 0, 0, 0, 0, 0, 0, 0, 0, 0, 0, 0, 0, 0, 0, 0, 0, 0, 0, 0, 0, 0, 0, 0, 0, 0, 0, 0, 0, 0, 0, 0, 0, 0, 0, 0, 0, 0, 0, 0, 0, 0, 0, 0, 0, 0, 0, 0, 0, 0, 0, 0, 0, 0, 0, 0, 0, 0, 0, 0, 0, 0, 0, 0, 0]\n"
          ]
        },
        {
          "output_type": "stream",
          "name": "stderr",
          "text": [
            "<ipython-input-32-cd49880aa0d7>:38: DeprecationWarning: Conversion of an array with ndim > 0 to a scalar is deprecated, and will error in future. Ensure you extract a single element from your array before performing this operation. (Deprecated NumPy 1.25.)\n",
            "  annot[i, j] = '%.1f%%\\n%d/%d' % (p, c, s)\n"
          ]
        },
        {
          "output_type": "stream",
          "name": "stdout",
          "text": [
            "FOLD =  2\n",
            "=== Inference ===\n",
            "Correctly classified:  256\n",
            "[1, 1, 1, 1, 1, 1, 1, 1, 0, 0, 0, 0, 0, 0, 0, 0, 0, 0, 0, 0, 0, 0, 0, 0, 0, 0, 0, 0, 0, 0, 0, 0, 0, 0, 0, 0, 0, 0, 0, 0, 0, 0, 0, 0, 0, 0, 0, 0, 0, 0, 0, 0, 0, 0, 0, 0, 0, 0, 0, 0, 0, 0, 0, 0, 0, 0, 0, 0, 0, 0, 0, 0, 0, 0, 0, 0, 0, 0, 0, 0, 0, 0, 0, 0, 0, 0, 0, 0, 0, 0, 0, 0, 0, 0, 0, 0, 0, 0, 0, 0, 0, 0, 0, 0, 0, 0, 0, 0, 0, 0, 0, 0, 0, 0, 0, 0, 0, 0, 0, 0, 0, 0, 0, 0, 0, 0, 0, 0, 0, 0, 0, 0, 0, 0, 0, 0, 0, 0, 0, 0, 0, 0, 0, 0, 0, 0, 0, 0, 0, 0, 0, 0, 0, 0, 0, 0, 0, 0, 0, 0, 0, 0, 0, 0, 0, 0, 0, 0, 0, 0, 0, 0, 0, 0, 0, 0, 0, 0, 0, 0, 0, 0, 0, 0, 0, 0, 0, 0, 0, 0, 0, 0, 0, 0, 0, 0, 0, 0, 0, 0, 0, 0, 0, 0, 0, 0, 0, 0, 0, 0, 0, 0, 0, 0, 0, 0, 0, 0, 0, 0, 0, 0, 0, 0, 0, 0, 0, 0, 0, 0, 0, 0, 0, 0, 0, 0, 0, 0, 0, 0, 0, 0, 0, 0, 0, 0, 0, 0, 0, 0, 0, 0, 0, 0, 0, 0] [1, 1, 1, 1, 1, 1, 1, 1, 0, 0, 0, 0, 0, 0, 0, 0, 0, 0, 0, 0, 0, 0, 0, 0, 0, 0, 0, 0, 0, 0, 0, 0, 0, 0, 0, 0, 0, 0, 0, 0, 0, 0, 0, 0, 0, 0, 0, 0, 0, 0, 0, 0, 0, 0, 0, 0, 0, 0, 0, 0, 0, 0, 0, 0, 0, 0, 0, 0, 0, 0, 0, 0, 0, 0, 0, 0, 0, 0, 0, 0, 0, 0, 0, 0, 0, 0, 0, 0, 0, 0, 0, 0, 0, 0, 0, 0, 0, 0, 0, 0, 0, 0, 0, 0, 0, 0, 0, 0, 0, 0, 0, 0, 0, 0, 0, 0, 0, 0, 0, 0, 0, 0, 0, 0, 0, 0, 0, 0, 0, 0, 0, 0, 0, 0, 0, 0, 0, 0, 0, 0, 0, 0, 0, 0, 0, 0, 0, 0, 0, 0, 0, 0, 0, 0, 0, 0, 0, 0, 0, 0, 0, 0, 0, 0, 0, 0, 0, 0, 0, 0, 0, 0, 0, 0, 0, 0, 0, 0, 0, 0, 0, 0, 0, 0, 0, 0, 0, 0, 0, 0, 0, 0, 0, 0, 0, 0, 0, 0, 0, 0, 0, 0, 0, 0, 0, 0, 0, 0, 0, 0, 0, 0, 0, 0, 0, 0, 0, 0, 0, 0, 0, 0, 0, 0, 0, 0, 0, 0, 0, 0, 0, 0, 0, 0, 0, 0, 0, 0, 0, 0, 0, 0, 0, 0, 0, 0, 0, 0, 0, 0, 0, 0, 0, 0, 0, 0]\n"
          ]
        },
        {
          "output_type": "stream",
          "name": "stderr",
          "text": [
            "<ipython-input-32-cd49880aa0d7>:38: DeprecationWarning: Conversion of an array with ndim > 0 to a scalar is deprecated, and will error in future. Ensure you extract a single element from your array before performing this operation. (Deprecated NumPy 1.25.)\n",
            "  annot[i, j] = '%.1f%%\\n%d/%d' % (p, c, s)\n"
          ]
        },
        {
          "output_type": "stream",
          "name": "stdout",
          "text": [
            "FOLD =  3\n",
            "=== Inference ===\n",
            "Correctly classified:  256\n",
            "[1, 1, 1, 1, 1, 1, 1, 1, 0, 0, 0, 0, 0, 0, 0, 0, 0, 0, 0, 0, 0, 0, 0, 0, 0, 0, 0, 0, 0, 0, 0, 0, 0, 0, 0, 0, 0, 0, 0, 0, 0, 0, 0, 0, 0, 0, 0, 0, 0, 0, 0, 0, 0, 0, 0, 0, 0, 0, 0, 0, 0, 0, 0, 0, 0, 0, 0, 0, 0, 0, 0, 0, 0, 0, 0, 0, 0, 0, 0, 0, 0, 0, 0, 0, 0, 0, 0, 0, 0, 0, 0, 0, 0, 0, 0, 0, 0, 0, 0, 0, 0, 0, 0, 0, 0, 0, 0, 0, 0, 0, 0, 0, 0, 0, 0, 0, 0, 0, 0, 0, 0, 0, 0, 0, 0, 0, 0, 0, 0, 0, 0, 0, 0, 0, 0, 0, 0, 0, 0, 0, 0, 0, 0, 0, 0, 0, 0, 0, 0, 0, 0, 0, 0, 0, 0, 0, 0, 0, 0, 0, 0, 0, 0, 0, 0, 0, 0, 0, 0, 0, 0, 0, 0, 0, 0, 0, 0, 0, 0, 0, 0, 0, 0, 0, 0, 0, 0, 0, 0, 0, 0, 0, 0, 0, 0, 0, 0, 0, 0, 0, 0, 0, 0, 0, 0, 0, 0, 0, 0, 0, 0, 0, 0, 0, 0, 0, 0, 0, 0, 0, 0, 0, 0, 0, 0, 0, 0, 0, 0, 0, 0, 0, 0, 0, 0, 0, 0, 0, 0, 0, 0, 0, 0, 0, 0, 0, 0, 0, 0, 0, 0, 0, 0, 0, 0, 0] [1, 1, 1, 1, 1, 1, 1, 1, 0, 0, 0, 0, 0, 0, 0, 0, 0, 0, 0, 0, 0, 0, 0, 0, 0, 0, 0, 0, 0, 0, 0, 0, 0, 0, 0, 0, 0, 0, 0, 0, 0, 0, 0, 0, 0, 0, 0, 0, 0, 0, 0, 0, 0, 0, 0, 0, 0, 0, 0, 0, 0, 0, 0, 0, 0, 0, 0, 0, 0, 0, 0, 0, 0, 0, 0, 0, 0, 0, 0, 0, 0, 0, 0, 0, 0, 0, 0, 0, 0, 0, 0, 0, 0, 0, 0, 0, 0, 0, 0, 0, 0, 0, 0, 0, 0, 0, 0, 0, 0, 0, 0, 0, 0, 0, 0, 0, 0, 0, 0, 0, 0, 0, 0, 0, 0, 0, 0, 0, 0, 0, 0, 0, 0, 0, 0, 0, 0, 0, 0, 0, 0, 0, 0, 0, 0, 0, 0, 0, 0, 0, 0, 0, 0, 0, 0, 0, 0, 0, 0, 0, 0, 0, 0, 0, 0, 0, 0, 0, 0, 0, 0, 0, 0, 0, 0, 0, 0, 0, 0, 0, 0, 0, 0, 0, 0, 0, 0, 0, 0, 0, 0, 0, 0, 0, 0, 0, 0, 0, 0, 0, 0, 0, 0, 0, 0, 0, 0, 0, 0, 0, 0, 0, 0, 0, 0, 0, 0, 0, 0, 0, 0, 0, 0, 0, 0, 0, 0, 0, 0, 0, 0, 0, 0, 0, 0, 0, 0, 0, 0, 0, 0, 0, 0, 0, 0, 0, 0, 0, 0, 0, 0, 0, 0, 0, 0, 0]\n"
          ]
        },
        {
          "output_type": "stream",
          "name": "stderr",
          "text": [
            "<ipython-input-32-cd49880aa0d7>:38: DeprecationWarning: Conversion of an array with ndim > 0 to a scalar is deprecated, and will error in future. Ensure you extract a single element from your array before performing this operation. (Deprecated NumPy 1.25.)\n",
            "  annot[i, j] = '%.1f%%\\n%d/%d' % (p, c, s)\n"
          ]
        },
        {
          "output_type": "display_data",
          "data": {
            "text/plain": [
              "<Figure size 200x200 with 2 Axes>"
            ],
            "image/png": "[encoded data removed]"
          },
          "metadata": {}
        },
        {
          "output_type": "display_data",
          "data": {
            "text/plain": [
              "<Figure size 200x200 with 2 Axes>"
            ],
            "image/png": "[encoded data removed]"
          },
          "metadata": {}
        },
        {
          "output_type": "display_data",
          "data": {
            "text/plain": [
              "<Figure size 200x200 with 2 Axes>"
            ],
            "image/png": "[encoded data removed]"
          },
          "metadata": {}
        },
        {
          "output_type": "display_data",
          "data": {
            "text/plain": [
              "<Figure size 200x200 with 2 Axes>"
            ],
            "image/png": "[encoded data removed]"
          },
          "metadata": {}
        }
      ]
    },
    {
      "cell_type": "code",
      "source": [],
      "metadata": {
        "id": "B-U2-TDoyJcj"
      },
      "execution_count": null,
      "outputs": []
    }
  ],
  "metadata": {
    "colab": {
      "provenance": []
    },
    "kernelspec": {
      "display_name": "Python 3",
      "name": "python3"
    },
    "language_info": {
      "name": "python"
    },
    "widgets": {
      "application/vnd.jupyter.widget-state+json": {
        "6cb9ead5ec3c4514a80e464bfedf5418": {
          "model_module": "@jupyter-widgets/controls",
          "model_name": "HBoxModel",
          "model_module_version": "1.5.0",
          "state": {
            "_dom_classes": [],
            "_model_module": "@jupyter-widgets/controls",
            "_model_module_version": "1.5.0",
            "_model_name": "HBoxModel",
            "_view_count": null,
            "_view_module": "@jupyter-widgets/controls",
            "_view_module_version": "1.5.0",
            "_view_name": "HBoxView",
            "box_style": "",
            "children": [
              "IPY_MODEL_70107b9714934acfb96dcae0344784d1",
              "IPY_MODEL_67a1da4d025f4efa8ae2acc9c23a7fb5",
              "IPY_MODEL_280050b7653f4b538df204192984207f"
            ],
            "layout": "IPY_MODEL_216a376063d04177b29e965142424643"
          }
        },
        "70107b9714934acfb96dcae0344784d1": {
          "model_module": "@jupyter-widgets/controls",
          "model_name": "HTMLModel",
          "model_module_version": "1.5.0",
          "state": {
            "_dom_classes": [],
            "_model_module": "@jupyter-widgets/controls",
            "_model_module_version": "1.5.0",
            "_model_name": "HTMLModel",
            "_view_count": null,
            "_view_module": "@jupyter-widgets/controls",
            "_view_module_version": "1.5.0",
            "_view_name": "HTMLView",
            "description": "",
            "description_tooltip": null,
            "layout": "IPY_MODEL_db852b48dedc4394bc10cf67e318f37b",
            "placeholder": "​",
            "style": "IPY_MODEL_4659fc47022c429d852f554b2c09840d",
            "value": "  4%"
          }
        },
        "67a1da4d025f4efa8ae2acc9c23a7fb5": {
          "model_module": "@jupyter-widgets/controls",
          "model_name": "FloatProgressModel",
          "model_module_version": "1.5.0",
          "state": {
            "_dom_classes": [],
            "_model_module": "@jupyter-widgets/controls",
            "_model_module_version": "1.5.0",
            "_model_name": "FloatProgressModel",
            "_view_count": null,
            "_view_module": "@jupyter-widgets/controls",
            "_view_module_version": "1.5.0",
            "_view_name": "ProgressView",
            "bar_style": "danger",
            "description": "",
            "description_tooltip": null,
            "layout": "IPY_MODEL_83530d1440964d2ca542d5f03185cfd8",
            "max": 1000,
            "min": 0,
            "orientation": "horizontal",
            "style": "IPY_MODEL_a61dff659e2c4efca210418ce0c187c6",
            "value": 40
          }
        },
        "280050b7653f4b538df204192984207f": {
          "model_module": "@jupyter-widgets/controls",
          "model_name": "HTMLModel",
          "model_module_version": "1.5.0",
          "state": {
            "_dom_classes": [],
            "_model_module": "@jupyter-widgets/controls",
            "_model_module_version": "1.5.0",
            "_model_name": "HTMLModel",
            "_view_count": null,
            "_view_module": "@jupyter-widgets/controls",
            "_view_module_version": "1.5.0",
            "_view_name": "HTMLView",
            "description": "",
            "description_tooltip": null,
            "layout": "IPY_MODEL_cdcf894d572a4dc9852861d596057080",
            "placeholder": "​",
            "style": "IPY_MODEL_f29950f40f0f4d549c530c2a3cabc2fd",
            "value": " 40/1000 [00:21&lt;13:40,  1.17it/s]"
          }
        },
        "216a376063d04177b29e965142424643": {
          "model_module": "@jupyter-widgets/base",
          "model_name": "LayoutModel",
          "model_module_version": "1.2.0",
          "state": {
            "_model_module": "@jupyter-widgets/base",
            "_model_module_version": "1.2.0",
            "_model_name": "LayoutModel",
            "_view_count": null,
            "_view_module": "@jupyter-widgets/base",
            "_view_module_version": "1.2.0",
            "_view_name": "LayoutView",
            "align_content": null,
            "align_items": null,
            "align_self": null,
            "border": null,
            "bottom": null,
            "display": null,
            "flex": null,
            "flex_flow": null,
            "grid_area": null,
            "grid_auto_columns": null,
            "grid_auto_flow": null,
            "grid_auto_rows": null,
            "grid_column": null,
            "grid_gap": null,
            "grid_row": null,
            "grid_template_areas": null,
            "grid_template_columns": null,
            "grid_template_rows": null,
            "height": null,
            "justify_content": null,
            "justify_items": null,
            "left": null,
            "margin": null,
            "max_height": null,
            "max_width": null,
            "min_height": null,
            "min_width": null,
            "object_fit": null,
            "object_position": null,
            "order": null,
            "overflow": null,
            "overflow_x": null,
            "overflow_y": null,
            "padding": null,
            "right": null,
            "top": null,
            "visibility": null,
            "width": null
          }
        },
        "db852b48dedc4394bc10cf67e318f37b": {
          "model_module": "@jupyter-widgets/base",
          "model_name": "LayoutModel",
          "model_module_version": "1.2.0",
          "state": {
            "_model_module": "@jupyter-widgets/base",
            "_model_module_version": "1.2.0",
            "_model_name": "LayoutModel",
            "_view_count": null,
            "_view_module": "@jupyter-widgets/base",
            "_view_module_version": "1.2.0",
            "_view_name": "LayoutView",
            "align_content": null,
            "align_items": null,
            "align_self": null,
            "border": null,
            "bottom": null,
            "display": null,
            "flex": null,
            "flex_flow": null,
            "grid_area": null,
            "grid_auto_columns": null,
            "grid_auto_flow": null,
            "grid_auto_rows": null,
            "grid_column": null,
            "grid_gap": null,
            "grid_row": null,
            "grid_template_areas": null,
            "grid_template_columns": null,
            "grid_template_rows": null,
            "height": null,
            "justify_content": null,
            "justify_items": null,
            "left": null,
            "margin": null,
            "max_height": null,
            "max_width": null,
            "min_height": null,
            "min_width": null,
            "object_fit": null,
            "object_position": null,
            "order": null,
            "overflow": null,
            "overflow_x": null,
            "overflow_y": null,
            "padding": null,
            "right": null,
            "top": null,
            "visibility": null,
            "width": null
          }
        },
        "4659fc47022c429d852f554b2c09840d": {
          "model_module": "@jupyter-widgets/controls",
          "model_name": "DescriptionStyleModel",
          "model_module_version": "1.5.0",
          "state": {
            "_model_module": "@jupyter-widgets/controls",
            "_model_module_version": "1.5.0",
            "_model_name": "DescriptionStyleModel",
            "_view_count": null,
            "_view_module": "@jupyter-widgets/base",
            "_view_module_version": "1.2.0",
            "_view_name": "StyleView",
            "description_width": ""
          }
        },
        "83530d1440964d2ca542d5f03185cfd8": {
          "model_module": "@jupyter-widgets/base",
          "model_name": "LayoutModel",
          "model_module_version": "1.2.0",
          "state": {
            "_model_module": "@jupyter-widgets/base",
            "_model_module_version": "1.2.0",
            "_model_name": "LayoutModel",
            "_view_count": null,
            "_view_module": "@jupyter-widgets/base",
            "_view_module_version": "1.2.0",
            "_view_name": "LayoutView",
            "align_content": null,
            "align_items": null,
            "align_self": null,
            "border": null,
            "bottom": null,
            "display": null,
            "flex": null,
            "flex_flow": null,
            "grid_area": null,
            "grid_auto_columns": null,
            "grid_auto_flow": null,
            "grid_auto_rows": null,
            "grid_column": null,
            "grid_gap": null,
            "grid_row": null,
            "grid_template_areas": null,
            "grid_template_columns": null,
            "grid_template_rows": null,
            "height": null,
            "justify_content": null,
            "justify_items": null,
            "left": null,
            "margin": null,
            "max_height": null,
            "max_width": null,
            "min_height": null,
            "min_width": null,
            "object_fit": null,
            "object_position": null,
            "order": null,
            "overflow": null,
            "overflow_x": null,
            "overflow_y": null,
            "padding": null,
            "right": null,
            "top": null,
            "visibility": null,
            "width": null
          }
        },
        "a61dff659e2c4efca210418ce0c187c6": {
          "model_module": "@jupyter-widgets/controls",
          "model_name": "ProgressStyleModel",
          "model_module_version": "1.5.0",
          "state": {
            "_model_module": "@jupyter-widgets/controls",
            "_model_module_version": "1.5.0",
            "_model_name": "ProgressStyleModel",
            "_view_count": null,
            "_view_module": "@jupyter-widgets/base",
            "_view_module_version": "1.2.0",
            "_view_name": "StyleView",
            "bar_color": null,
            "description_width": ""
          }
        },
        "cdcf894d572a4dc9852861d596057080": {
          "model_module": "@jupyter-widgets/base",
          "model_name": "LayoutModel",
          "model_module_version": "1.2.0",
          "state": {
            "_model_module": "@jupyter-widgets/base",
            "_model_module_version": "1.2.0",
            "_model_name": "LayoutModel",
            "_view_count": null,
            "_view_module": "@jupyter-widgets/base",
            "_view_module_version": "1.2.0",
            "_view_name": "LayoutView",
            "align_content": null,
            "align_items": null,
            "align_self": null,
            "border": null,
            "bottom": null,
            "display": null,
            "flex": null,
            "flex_flow": null,
            "grid_area": null,
            "grid_auto_columns": null,
            "grid_auto_flow": null,
            "grid_auto_rows": null,
            "grid_column": null,
            "grid_gap": null,
            "grid_row": null,
            "grid_template_areas": null,
            "grid_template_columns": null,
            "grid_template_rows": null,
            "height": null,
            "justify_content": null,
            "justify_items": null,
            "left": null,
            "margin": null,
            "max_height": null,
            "max_width": null,
            "min_height": null,
            "min_width": null,
            "object_fit": null,
            "object_position": null,
            "order": null,
            "overflow": null,
            "overflow_x": null,
            "overflow_y": null,
            "padding": null,
            "right": null,
            "top": null,
            "visibility": null,
            "width": null
          }
        },
        "f29950f40f0f4d549c530c2a3cabc2fd": {
          "model_module": "@jupyter-widgets/controls",
          "model_name": "DescriptionStyleModel",
          "model_module_version": "1.5.0",
          "state": {
            "_model_module": "@jupyter-widgets/controls",
            "_model_module_version": "1.5.0",
            "_model_name": "DescriptionStyleModel",
            "_view_count": null,
            "_view_module": "@jupyter-widgets/base",
            "_view_module_version": "1.2.0",
            "_view_name": "StyleView",
            "description_width": ""
          }
        }
      }
    }
  },
  "nbformat": 4,
  "nbformat_minor": 0
}